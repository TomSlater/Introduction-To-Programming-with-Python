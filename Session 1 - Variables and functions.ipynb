{
 "cells": [
  {
   "cell_type": "markdown",
   "metadata": {},
   "source": [
    "# Session 1: Variables and functions\n",
    "\n",
    "<a rel=\"license\" href=\"https://creativecommons.org/licenses/by/4.0/\"><img alt=\"Creative Commons Licence\" style=\"border-width:0\" src=\"https://licensebuttons.net/l/by/4.0/88x31.png\" title='This work is licensed under a Creative Commons Attribution 4.0 International License.' align=\"right\"/></a>\n",
    "\n",
    "Authors:\n",
    "- Dr Antonia Mey\n",
    "- Dr Claire Hobday\n",
    "- Dr Tom Slater\n",
    "\n",
    "Email: slatert2@cardiff.ac.uk\n",
    "\n",
    "### Learning objectives:\n",
    "* Interact with a Jupyter notebook\n",
    "* Declare variables\n",
    "* Print Variables\n",
    "* Use and create functions\n",
    "\n",
    "You will be using the following concepts:\n",
    "\n",
    "- Variables\n",
    "- In-built functions such as `print()`\n",
    "- User-defined functions\n",
    "\n",
    "Some of the content is adapted from [Software carpentry lessons](http://swcarpentry.github.io/python-novice-gapminder/index.html).\n",
    "\n",
    "### Table of Contents\n",
    "\n",
    "1. [Variables and Types](#variables)       \n",
    "2. [Functions](#functions)\n",
    "3. [Function Arguments](#arguments)\n",
    "4. [End of Session Task](#final-task)\n",
    "\n",
    "### Further reading for this topic\n",
    "\n",
    "- [Software carpentry lessons](http://swcarpentry.github.io/python-novice-gapminder/index.html)\n",
    "\n",
    "**<span style=\"color:black\">Jupyter Cheat Sheet</span>**\n",
    "- To run the currently highlighted cell and move focus to the next cell, hold <kbd>&#x21E7; Shift</kbd> and press <kbd>&#x23ce; Enter</kbd>;\n",
    "- To run the currently highlighted cell and keep focus in the same cell, hold <kbd>&#x21E7; Ctrl</kbd> and press <kbd>&#x23ce; Enter</kbd>;\n",
    "- To get help for a specific function, place the cursor within the function's brackets, hold <kbd>&#x21E7; Shift</kbd>, and press <kbd>&#x21E5; Tab</kbd>;"
   ]
  },
  {
   "cell_type": "markdown",
   "metadata": {},
   "source": [
    "If you are running this notebook in Google Colab, please copy this notebook to your Google Drive (Copy to Drive) in order to save all of your changes."
   ]
  },
  {
   "cell_type": "markdown",
   "metadata": {},
   "source": [
    "## 1. Variables and Types\n",
    "<a id='variables'></a>\n",
    "### Use variables to store data.\n",
    "\n",
    "* Variables are names for data (much like in algebra).\n",
    "* In Python the `=` symbol assigns the value on the right to the name on the left.\n",
    "* The variable is created when a value is assigned to it.\n",
    "* Here, Python assigns an `age` to a variable age and a name in quotes to a variable `first_name`."
   ]
  },
  {
   "cell_type": "code",
   "execution_count": 3,
   "metadata": {},
   "outputs": [],
   "source": [
    "age = 42\n",
    "first_name = 'Ahmed'"
   ]
  },
  {
   "cell_type": "markdown",
   "metadata": {},
   "source": [
    "* Variable names    \n",
    "   * can only contain letters, digits, and underscore _ (typically used to separate words in long variable names)\n",
    "   * cannot start with a digit\n",
    "   * are case sensitive (age, Age and AGE are three different variables)\n",
    "* Variable names that start with underscores like `__alistairs_real_age` have a special meaning, so we won’t use these."
   ]
  },
  {
   "cell_type": "markdown",
   "metadata": {},
   "source": [
    "### Every value has a type\n",
    "\n",
    "* Every value in a program has a specific type.\n",
    "* Integer (`int`): represents positive or negative whole numbers like 3 or -512.\n",
    "* Floating point number (`float`): represents real numbers like 3.14159 or -2.5.\n",
    "* Character string (usually called “string”, `str`): text.\n",
    "  * Written in either single quotes or double quotes (as long as they match).\n",
    "  * The quote marks aren't printed when the string is displayed."
   ]
  },
  {
   "cell_type": "markdown",
   "metadata": {
    "tags": []
   },
   "source": [
    "### Use the built-in function type to find the type of a value\n",
    "\n",
    "* Use the built-in function `type()` to find out what type a value has.\n",
    "* Works on variables as well.\n",
    "  * But remember: ⚠️ the *value* has the type — the *variable* is just a label."
   ]
  },
  {
   "cell_type": "code",
   "execution_count": 4,
   "metadata": {
    "tags": []
   },
   "outputs": [
    {
     "data": {
      "text/plain": [
       "int"
      ]
     },
     "execution_count": 4,
     "metadata": {},
     "output_type": "execute_result"
    }
   ],
   "source": [
    "type(age)"
   ]
  },
  {
   "cell_type": "code",
   "execution_count": 5,
   "metadata": {},
   "outputs": [
    {
     "data": {
      "text/plain": [
       "str"
      ]
     },
     "execution_count": 5,
     "metadata": {},
     "output_type": "execute_result"
    }
   ],
   "source": [
    "type(first_name)"
   ]
  },
  {
   "cell_type": "markdown",
   "metadata": {},
   "source": [
    "### Use `print()` to display variables"
   ]
  },
  {
   "cell_type": "markdown",
   "metadata": {},
   "source": [
    "* Python has a built-in function called `print()` that prints things as text.\n",
    "* Call the function (i.e., tell Python to run it) by using its name.\n",
    "* Provide values to the function (i.e., the things to print) in parentheses.\n",
    "* To add a string to the printout, wrap the string in single or double quotes.\n",
    "* The values passed to the function are called arguments."
   ]
  },
  {
   "cell_type": "code",
   "execution_count": 6,
   "metadata": {},
   "outputs": [
    {
     "name": "stdout",
     "output_type": "stream",
     "text": [
      "Ahmed is 42 years old\n"
     ]
    }
   ],
   "source": [
    "print(first_name, 'is', age, 'years old')"
   ]
  },
  {
   "cell_type": "markdown",
   "metadata": {},
   "source": [
    "* `print()` automatically puts a single space between items to separate them.\n",
    "* And wraps around to a new line at the end."
   ]
  },
  {
   "cell_type": "markdown",
   "metadata": {},
   "source": [
    "<div class=\"alert alert-info\"><b>Variables persist between cells</b>\n",
    "    \n",
    "    \n",
    "Be aware that <em>it is the order of execution of cells that is important</em> in a Jupyter notebook, not the <em>order</em> in which they appear. Python will remember <em>all</em> the code that was run previously, including any variables you have defined, irrespective of the order in the notebook. Therefore, if you define variables lower down the notebook and then (re)run cells further up, those defined further down will still be present. As an example, create two cells with the following content, in this order:\n",
    "    \n",
    "<code>print(atom)</code><br>\n",
    "<code>atom = Helium</code>\n",
    "    \n",
    "If you execute this in order, the first cell will give an error. However, if you run the first cell after the second cell it will print out Helium. To prevent confusion, it can be helpful to use the <em>Kernel -> Restart & Run All</em> option which clears the interpreter and runs everything from a clean slate going top to bottom.</div>\n",
    "        "
   ]
  },
  {
   "cell_type": "markdown",
   "metadata": {},
   "source": [
    "### Variables can be used in calculations\n",
    "***\n",
    "We can use variables in calculations just as if they were values.    \n",
    "**Remember**, we assigned the value 42 to age a few lines ago."
   ]
  },
  {
   "cell_type": "code",
   "execution_count": 7,
   "metadata": {},
   "outputs": [
    {
     "name": "stdout",
     "output_type": "stream",
     "text": [
      "Age in three years: 45\n"
     ]
    }
   ],
   "source": [
    "age = age + 3\n",
    "print('Age in three years:', age)"
   ]
  },
  {
   "cell_type": "markdown",
   "metadata": {},
   "source": [
    "### Python is case-sensitive\n",
    "\n",
    "* Python thinks that upper- and lower-case letters are different, so `Name` and `name` are different variables.\n",
    "* There are conventions for using upper-case letters at the start of variable names so we will use lower-case letters for now."
   ]
  },
  {
   "cell_type": "markdown",
   "metadata": {},
   "source": [
    "### Use meaningful variable names\n",
    "\n",
    "Python doesn't care what you call variables as long as they obey the rules (alphanumeric characters and the underscore)."
   ]
  },
  {
   "cell_type": "code",
   "execution_count": null,
   "metadata": {},
   "outputs": [],
   "source": [
    "flabadab = 42\n",
    "ewr_422_yY = 'Ahmed'\n",
    "print(ewr_422_yY, 'is', flabadab, 'years old')"
   ]
  },
  {
   "cell_type": "markdown",
   "metadata": {},
   "source": [
    "⚠️ **Use meaningful variable names** to help other people understand what the program does.\n",
    "The most important “other person” is your **future self**."
   ]
  },
  {
   "cell_type": "markdown",
   "metadata": {},
   "source": [
    "## Tasks:"
   ]
  },
  {
   "cell_type": "markdown",
   "metadata": {},
   "source": [
    "<div class=\"alert alert-success\">\n",
    "<b>Task 1.1: Assign the following variables and print them:<br></b>\n",
    "\n",
    "- Christina Miller to the variable name `Researcher_name`\n",
    "- Joseph Black to the variable name `Researcher_name_2`\n",
    "- 12 to the variable name `Carbon_mass`\n",
    "- Print all assigned variables\n",
    "    \n",
    "\n",
    "</div>    "
   ]
  },
  {
   "cell_type": "code",
   "execution_count": null,
   "metadata": {},
   "outputs": [],
   "source": [
    "# FIXME\n"
   ]
  },
  {
   "cell_type": "markdown",
   "metadata": {},
   "source": [
    "<details><summary {style='color:green;font-weight:bold'}> Click here to see the solution to Task 1.1</summary>\n",
    "    \n",
    "```python\n",
    "\n",
    "Researcher_name = \"Christina Miller\"\n",
    "Researcher_name_2 = \"Joseph Black\"\n",
    "Carbon_mass = 12\n",
    "print(\"Researcher one is:\", Researcher_name)\n",
    "print(\"Researcher two is:\", Researcher_name_2)\n",
    "print(\"The mass of carbon is:\",Carbon_mass)\n",
    "\n",
    "```\n",
    "</details>"
   ]
  },
  {
   "cell_type": "markdown",
   "metadata": {},
   "source": [
    "<div class=\"alert alert-success\">\n",
    "<b>Task 1.2: Arithmetic:<br></b>\n",
    "    \n",
    "In your head, or on paper, work out the following arithmetic as you would expect Python to do it using the rules of precedence (calculation order).\n",
    "    \n",
    "1. 20 + 7 * 9 - 4 = ?\n",
    "2. 4 + 4 / 2 = ?\n",
    "3. 2 * 5 ** 2 = ?\n",
    "4. -9 / 3 ** 2 = ?\n",
    "    \n",
    "Check your answers using code cells.\n",
    "    \n",
    "Do you get the same answer if you assign variables to each value in the equation in 1?\n",
    "</b></div>"
   ]
  },
  {
   "cell_type": "code",
   "execution_count": null,
   "metadata": {},
   "outputs": [],
   "source": [
    "# FIXME\n"
   ]
  },
  {
   "cell_type": "markdown",
   "metadata": {},
   "source": [
    "<details><summary {style='color:green;font-weight:bold'}> Click here to see the solution to Task 1.2</summary>\n",
    "    \n",
    "```python\n",
    "\n",
    "print(20 + 7 * 9 - 4)\n",
    "print(4 + 4 / 2)\n",
    "print(2 * 5 ** 2)\n",
    "print(-9 / 3 ** 2)\n",
    "\n",
    "a = 20\n",
    "b = 7\n",
    "c = 9\n",
    "d = 4\n",
    "\n",
    "print(a+b*c-d)\n",
    "\n",
    "```"
   ]
  },
  {
   "cell_type": "markdown",
   "metadata": {},
   "source": [
    "<div class=\"alert alert-success\">\n",
    "<b>Task 1.3: Predicting Values:<br></b>\n",
    "    What is the final value of position in the program below? \n",
    "    \n",
    "(Try to predict the value without running the program, then check your prediction, by using `print()` to query the value of position.)</div>"
   ]
  },
  {
   "cell_type": "code",
   "execution_count": null,
   "metadata": {},
   "outputs": [],
   "source": [
    "initial = 'left'\n",
    "position = initial\n",
    "initial = 'right'"
   ]
  },
  {
   "cell_type": "code",
   "execution_count": null,
   "metadata": {},
   "outputs": [],
   "source": [
    "# FIXME\n"
   ]
  },
  {
   "cell_type": "markdown",
   "metadata": {},
   "source": [
    "<details><summary {style='color:green;font-weight:bold'}> Click here to see the solution to Task 1.3</summary>\n",
    "    \n",
    "```python\n",
    "print(position)\n",
    "```\n",
    "    \n",
    "##### Explanation\n",
    "The `initial` variable is assigned the value `'left'`. In the second line, the `position` variable also receives the string value `'left'`. In third line, the `initial` variable is given the value `'right'`, but the `position` variable retains its string value of `'left'`.\n",
    "</details>"
   ]
  },
  {
   "cell_type": "markdown",
   "metadata": {},
   "source": [
    "<div class=\"alert alert-success\">\n",
    "<b>Task 1.4: Choosing a Name<br>\n",
    "Which is a better variable name, m, min, or minutes? Why?</b>\n",
    "    \n",
    "Hint: think about which code you would rather inherit from someone who is leaving the lab:\n",
    "\n",
    "1. `ts = m * 60 + s`\n",
    "2. `tot_sec = min * 60 + sec`\n",
    "3. `total_seconds = minutes * 60 + seconds`</div>"
   ]
  },
  {
   "cell_type": "code",
   "execution_count": null,
   "metadata": {},
   "outputs": [],
   "source": [
    "#FIXME\n"
   ]
  },
  {
   "cell_type": "markdown",
   "metadata": {},
   "source": [
    "<details><summary {style='color:green;font-weight:bold'}> Click here to see the solution to Task 1.4. </summary>\n",
    "    \n",
    "```python\n",
    "\n",
    "```\n",
    "\n",
    "`minutes` is better because `min` might mean something like “minimum”.\n",
    " </details>"
   ]
  },
  {
   "cell_type": "markdown",
   "metadata": {},
   "source": [
    "<div class=\"alert alert-success\">\n",
    "<b>Task 1.5: Challenge:<br></b>\n",
    "If you assign <code>a = 123</code>, what happens if you try to get the second digit of a via <code>a[1]</code>? What happens if you use <code>str(a[1])</code></div>"
   ]
  },
  {
   "cell_type": "code",
   "execution_count": null,
   "metadata": {},
   "outputs": [],
   "source": [
    "#FIXME\n"
   ]
  },
  {
   "cell_type": "markdown",
   "metadata": {},
   "source": [
    "<details><summary {style='color:green;font-weight:bold'}> Click here to see the solution to Task 1.5</summary>\n",
    "    \n",
    "```python\n",
    "print(a[1])\n",
    "print(str(a[1]))\n",
    "```\n",
    "    \n",
    "Numbers are not strings or sequences and Python will raise an error if you try to perform an index operation on a number. In the next part on types and type conversion we will learn more about types and how to convert between different types. If you want the Nth digit of a number you can convert it into a string using the `str` built-in function and then perform an index operation on that string.\n",
    "</details>"
   ]
  },
  {
   "cell_type": "markdown",
   "metadata": {},
   "source": [
    "<div class=\"alert alert-warning\">\n",
    "<b>Advanced Task 1.6: Fill in the blanks to get a substring</b>\n",
    "</div>"
   ]
  },
  {
   "cell_type": "code",
   "execution_count": null,
   "metadata": {},
   "outputs": [],
   "source": [
    "atom_name = 'carbon'\n",
    "print('atom_name[1:3] is:', #FIXME)"
   ]
  },
  {
   "cell_type": "markdown",
   "metadata": {},
   "source": [
    "<details><summary {style='color:green;font-weight:bold'}> Click here to see the solution to Task 1.6.</summary>\n",
    "    \n",
    "```python\n",
    "atom_name = 'carbon'\n",
    "print('atom_name[1:3] is:', atom_name[1:3])\n",
    "```\n",
    "</details>"
   ]
  },
  {
   "cell_type": "markdown",
   "metadata": {},
   "source": [
    "<div class=\"alert alert-info\"> <b>Key Points</b>\n",
    "\n",
    "- Use variables to store values.   \n",
    "- Use `print()` to display values.   \n",
    "- Variables persist between cells.   \n",
    "- Variables must be created before they are used.  \n",
    "- Variables can be used in calculations.   \n",
    "- Use an index to get a single character from a string.\n",
    "- Use a slice to get a substring.\n",
    "- Python is case-sensitive.\n",
    "- Use meaningful variable names.\n",
    "</div>"
   ]
  },
  {
   "cell_type": "markdown",
   "metadata": {},
   "source": [
    "### Types control what operations (or methods) can be performed on a given value\n",
    "\n",
    "A value's type determines what the program can do to it."
   ]
  },
  {
   "cell_type": "code",
   "execution_count": null,
   "metadata": {},
   "outputs": [],
   "source": [
    "print(5 - 3)"
   ]
  },
  {
   "cell_type": "code",
   "execution_count": 1,
   "metadata": {},
   "outputs": [
    {
     "ename": "TypeError",
     "evalue": "unsupported operand type(s) for -: 'str' and 'str'",
     "output_type": "error",
     "traceback": [
      "\u001b[1;31m---------------------------------------------------------------------------\u001b[0m",
      "\u001b[1;31mTypeError\u001b[0m                                 Traceback (most recent call last)",
      "\u001b[1;32m~\\AppData\\Local\\Temp\\ipykernel_28452\\13340790.py\u001b[0m in \u001b[0;36m<module>\u001b[1;34m\u001b[0m\n\u001b[1;32m----> 1\u001b[1;33m \u001b[0mprint\u001b[0m\u001b[1;33m(\u001b[0m\u001b[1;34m'hello'\u001b[0m \u001b[1;33m-\u001b[0m \u001b[1;34m'h'\u001b[0m\u001b[1;33m)\u001b[0m\u001b[1;33m\u001b[0m\u001b[1;33m\u001b[0m\u001b[0m\n\u001b[0m",
      "\u001b[1;31mTypeError\u001b[0m: unsupported operand type(s) for -: 'str' and 'str'"
     ]
    }
   ],
   "source": [
    "print('hello' - 'h')"
   ]
  },
  {
   "cell_type": "markdown",
   "metadata": {},
   "source": [
    "### You can use the “+” and “*” operators on strings\n",
    "\n",
    "“Adding” character strings concatenates them."
   ]
  },
  {
   "cell_type": "code",
   "execution_count": 8,
   "metadata": {},
   "outputs": [
    {
     "name": "stdout",
     "output_type": "stream",
     "text": [
      "Ahmed Walsh\n"
     ]
    }
   ],
   "source": [
    "full_name = 'Ahmed' + ' ' + 'Walsh'\n",
    "print(full_name)"
   ]
  },
  {
   "cell_type": "markdown",
   "metadata": {},
   "source": [
    "* Multiplying a character string by an integer N creates a new string that consists of that character string repeated N times.\n",
    "  * Since multiplication is repeated addition."
   ]
  },
  {
   "cell_type": "code",
   "execution_count": 9,
   "metadata": {},
   "outputs": [
    {
     "name": "stdout",
     "output_type": "stream",
     "text": [
      "==========\n"
     ]
    }
   ],
   "source": [
    "separator = '=' * 10\n",
    "print(separator)"
   ]
  },
  {
   "cell_type": "markdown",
   "metadata": {},
   "source": [
    "### Strings have a length (but numbers don't)\n",
    "\n",
    "The built-in function `len()` counts the number of characters in a string."
   ]
  },
  {
   "cell_type": "code",
   "execution_count": null,
   "metadata": {},
   "outputs": [],
   "source": [
    "print(len(full_name))"
   ]
  },
  {
   "cell_type": "code",
   "execution_count": null,
   "metadata": {},
   "outputs": [],
   "source": [
    "print(len(52))"
   ]
  },
  {
   "cell_type": "markdown",
   "metadata": {},
   "source": [
    "### Must convert numbers to strings or vice versa when operating on them\n",
    "\n",
    "Cannot add numbers and strings."
   ]
  },
  {
   "cell_type": "code",
   "execution_count": null,
   "metadata": {},
   "outputs": [],
   "source": [
    "print(1 + '2')"
   ]
  },
  {
   "cell_type": "markdown",
   "metadata": {},
   "source": [
    "* Not allowed because it's ambiguous: should 1 + '2' be 3 or '12'?\n",
    "* Some types can be converted to other types by using the type name as a function."
   ]
  },
  {
   "cell_type": "code",
   "execution_count": null,
   "metadata": {},
   "outputs": [],
   "source": [
    "print(1 + int('2'))\n",
    "print(str(1) + '2')"
   ]
  },
  {
   "cell_type": "markdown",
   "metadata": {},
   "source": [
    "### Can mix integers and floats freely in operations\n",
    "\n",
    "* Integers and floating-point numbers can be mixed in arithmetic.\n",
    "* Python 3 automatically converts integers to floats as needed. "
   ]
  },
  {
   "cell_type": "code",
   "execution_count": null,
   "metadata": {},
   "outputs": [],
   "source": [
    "print('half is', 1 / 2.0)\n",
    "print('three squared is', 3.0 ** 2)"
   ]
  },
  {
   "cell_type": "markdown",
   "metadata": {},
   "source": [
    "### Variables only change value when something is assigned to them\n",
    "\n",
    "* If we make one cell in a spreadsheet depend on another, and update the latter, the former updates automatically.\n",
    "* This does **not** happen in programming languages."
   ]
  },
  {
   "cell_type": "code",
   "execution_count": 2,
   "metadata": {},
   "outputs": [
    {
     "name": "stdout",
     "output_type": "stream",
     "text": [
      "first is 2 and second is 5\n"
     ]
    }
   ],
   "source": [
    "first = 1\n",
    "second = 5 * first\n",
    "first = 2\n",
    "print('first is', first, 'and second is', second)"
   ]
  },
  {
   "cell_type": "markdown",
   "metadata": {},
   "source": [
    "* The computer reads the value of `first` when doing the multiplication, creates a new value, and assigns it to `second`.\n",
    "* After that, `second` does not remember where it came from."
   ]
  },
  {
   "cell_type": "markdown",
   "metadata": {},
   "source": [
    "## Tasks"
   ]
  },
  {
   "cell_type": "markdown",
   "metadata": {},
   "source": [
    "<div class=\"alert alert-success\">\n",
    "<b>Task 1.7: Rational numbers:</b>\n",
    "    \n",
    "What type of value is 3.4? How can you find out?</div>"
   ]
  },
  {
   "cell_type": "code",
   "execution_count": null,
   "metadata": {},
   "outputs": [],
   "source": [
    "#FIXME\n"
   ]
  },
  {
   "cell_type": "markdown",
   "metadata": {},
   "source": [
    "<details><summary {style='color:green;font-weight:bold'}> Click here to see the solution to Task 1.7</summary>\n",
    "    \n",
    "```python\n",
    "print(type(3.4))\n",
    "```\n",
    "It is a floating-point number (often abbreviated “float”).\n",
    "</details>"
   ]
  },
  {
   "cell_type": "markdown",
   "metadata": {},
   "source": [
    "<div class=\"alert alert-success\">\n",
    "<b>Task 1.8: Automatic type conversion:</b>\n",
    "    \n",
    "What type of value is $3.25 + 4$? </div>"
   ]
  },
  {
   "cell_type": "code",
   "execution_count": null,
   "metadata": {},
   "outputs": [],
   "source": [
    "# FIXME\n"
   ]
  },
  {
   "cell_type": "markdown",
   "metadata": {},
   "source": [
    "<details><summary {style='color:green;font-weight:bold'}> Click here to see the solution to Task 1.8. </summary>\n",
    "    \n",
    "```python\n",
    "result = 3.25 + 4\n",
    "print(result, 'is', type(result))\n",
    "```\n",
    "It is a float: integers are automatically converted to floats as necessary.\n",
    "</details>"
   ]
  },
  {
   "cell_type": "markdown",
   "metadata": {},
   "source": [
    "<div class=\"alert alert-success\"><b>Task 1.9: Choosing a type:</b>\n",
    "    \n",
    "What type of value (integer, floating point number, or character string) would you use to represent each of the following? \n",
    "    \n",
    "Try to come up with more than one good answer for each problem.\n",
    "\n",
    "1. Number of days since the start of the year.\n",
    "2. Time elapsed from the start of the year until now in days.\n",
    "3. Serial number of a piece of lab equipment.\n",
    "4. A lab specimen's age\n",
    "5. Current population of a city.\n",
    "6. Average population of a city over time.\n",
    "    \n",
    "(You should give a Markdown solution)</div>"
   ]
  },
  {
   "cell_type": "code",
   "execution_count": null,
   "metadata": {},
   "outputs": [],
   "source": [
    "# 1.\n",
    "# FIXME\n"
   ]
  },
  {
   "cell_type": "code",
   "execution_count": null,
   "metadata": {},
   "outputs": [],
   "source": [
    "# 2.\n",
    "# FIXME"
   ]
  },
  {
   "cell_type": "code",
   "execution_count": null,
   "metadata": {},
   "outputs": [],
   "source": [
    "# 3.\n",
    "# FIXME"
   ]
  },
  {
   "cell_type": "code",
   "execution_count": null,
   "metadata": {},
   "outputs": [],
   "source": [
    "# 4.\n",
    "# FIXME"
   ]
  },
  {
   "cell_type": "code",
   "execution_count": null,
   "metadata": {},
   "outputs": [],
   "source": [
    "# 5.\n",
    "# FIXME"
   ]
  },
  {
   "cell_type": "code",
   "execution_count": null,
   "metadata": {},
   "outputs": [],
   "source": [
    "# 6.\n",
    "# FIXME"
   ]
  },
  {
   "cell_type": "markdown",
   "metadata": {},
   "source": [
    "<details><summary {style='color:green;font-weight:bold'}> Click here to see the solution to Task 1.9. </summary>\n",
    "Explanation <br>    \n",
    "  \n",
    "1. Integer, since the number of days would lie between 1 and 365. <br>\n",
    "2. Floating point, since fractional days are required <br>\n",
    "3. Character string if serial number contains letters and numbers, otherwise integer if the serial number consists only of numerals <br>\n",
    "4. This will vary! How do you define a specimen's age? whole days since collection (integer)? date and time (string)? <br>\n",
    "5. Choose floating point to represent population as large aggregates (eg millions), or integer to represent population in units of individuals. <br>\n",
    "6. Floating point number, since an average is likely to have a fractional part.\n",
    "</details>\n"
   ]
  },
  {
   "cell_type": "markdown",
   "metadata": {},
   "source": [
    "<div class=\"alert alert-success\"><b>Task 1.10: Predicting types:</br></b>\n",
    "    \n",
    "What are the types of each of the following numbers?\n",
    "\n",
    "- 6   \n",
    "- 10.3   \n",
    "- -99.0   \n",
    "- 1.0   \n",
    "</div>"
   ]
  },
  {
   "cell_type": "code",
   "execution_count": null,
   "metadata": {},
   "outputs": [],
   "source": [
    "# TRY ME\n"
   ]
  },
  {
   "cell_type": "markdown",
   "metadata": {},
   "source": [
    "<details><summary {style='color:green;font-weight:bold'}> Click here to see the solution to Task 1.10. </summary>\n",
    "\n",
    "    6 -> integer\n",
    "    10.3 -> floating point\n",
    "    -99.0 -> floating point\n",
    "    1.0 -> floating point\n",
    "    \n",
    "If you are unsure use the <code>type</code> function.\n",
    "</details>\n"
   ]
  },
  {
   "cell_type": "markdown",
   "metadata": {},
   "source": [
    "<div class=\"alert alert-success\"><b>Task 1.11: Strings to numbers:</br></b>\n",
    "    \n",
    "You can convert a float to an integer in the following way: \n",
    "<code>print(int(3.4))</code> \n",
    "    \n",
    "What kind of output do you get for the following conversions? \n",
    "\n",
    "Why do some of them fail?\n",
    "\n",
    "1. <code>print(\"string to float:\", float(\"3.4\"))</code>\n",
    "2. <code>print(\"float to int:\", int(3.4))</code>\n",
    "3. <code>print(\"string to float:\", float(\"Hello world!\"))</code>\n",
    "4. <code>print(\"fractional string to int:\", int(\"3.4\"))</code>\n",
    "</div>"
   ]
  },
  {
   "cell_type": "code",
   "execution_count": null,
   "metadata": {},
   "outputs": [],
   "source": [
    "# 1.\n",
    "# FIXME\n"
   ]
  },
  {
   "cell_type": "code",
   "execution_count": null,
   "metadata": {},
   "outputs": [],
   "source": [
    "# 2.\n",
    "# FIXME"
   ]
  },
  {
   "cell_type": "code",
   "execution_count": null,
   "metadata": {},
   "outputs": [],
   "source": [
    "# 3.\n",
    "# FIXME"
   ]
  },
  {
   "cell_type": "code",
   "execution_count": null,
   "metadata": {},
   "outputs": [],
   "source": [
    "# 4.\n",
    "# FIXME"
   ]
  },
  {
   "cell_type": "markdown",
   "metadata": {},
   "source": [
    "<details><summary {style='color:green;font-weight:bold'}> Click here to see solution to Task 1.11 </summary>\n",
    "    \n",
    "1. ```python\n",
    "print(\"string to float:\", float(\"3.4\"))\n",
    "```\n",
    "2. ```python\n",
    " print(\"float to int:\", int(3.4))\n",
    "```\n",
    "3. ```python\n",
    "print(\"string to float:\", float(\"Hello world!\"))\n",
    "```\n",
    "4. ```python\n",
    "print(\"fractional string to int:\", int(\"3.4\"))\n",
    "```\n",
    "\n",
    "What do you expect this program to do? It would not be so unreasonable to expect the Python 3 `int` command to convert the string “3.4” to 3.4 and an additional type conversion to 3. After all, Python 3 performs a lot of other magic - isn’t that part of its charm?\n",
    "However, Python 3 throws an error. Why? To be consistent, possibly. If you ask Python to perform two consecutive typecasts, you must convert it explicitly in code.\n",
    "</details>"
   ]
  },
  {
   "cell_type": "markdown",
   "metadata": {},
   "source": [
    "<div class=\"alert alert-success\"><b>Task 1.12: Operations on numbers:</br></b>\n",
    "\n",
    "- What type of number do you get if you do 4 / 2?\n",
    "- What type of number do you get if you do 4 // 2?\n",
    "\n",
    "</div>"
   ]
  },
  {
   "cell_type": "code",
   "execution_count": null,
   "metadata": {},
   "outputs": [],
   "source": [
    "# FIXME"
   ]
  },
  {
   "cell_type": "markdown",
   "metadata": {},
   "source": [
    "<details><summary {style='color:green;font-weight:bold'}> Click here to see the solution to Task 1.12. </summary>\n",
    "\n",
    "```python\n",
    "    print(4/2, \"is of type\", type(4/2))\n",
    "    print(4//2, \"is of type\", type(4//2))\n",
    "```\n",
    "</details>"
   ]
  },
  {
   "cell_type": "markdown",
   "metadata": {},
   "source": [
    "<div class=\"alert alert-info\"> <b>Key Points<br></b>\n",
    "\n",
    "- Every value has a `type()`.\n",
    "- Use the built-in function `type~ to find the type of a value.\n",
    "- Types control what operations can be done on values.\n",
    "- Strings can be added and multiplied.\n",
    "- Strings have a length (but numbers don't).\n",
    "- Must convert numbers to strings or vice versa when operating on them.\n",
    "- Can mix integers and floats freely in operations.\n",
    "- Variables only change value when something is assigned to them.</div>\n",
    "\n"
   ]
  },
  {
   "cell_type": "markdown",
   "metadata": {},
   "source": [
    "## 2. Functions\n",
    "<a id='functions'></a>"
   ]
  },
  {
   "cell_type": "markdown",
   "metadata": {},
   "source": [
    "Functions are blocks of reusable code used to perform a specific task usually more than once in a program. We have already been using some of Python's inbuilt functions such as `print()`. \n",
    "\n",
    "When we run the command\n",
    "```python\n",
    "print(\"Hello\")\n",
    "```\n",
    "Python uses code that has already been written by someone else to output \"Hello\" to our screen. The command\n",
    "```python\n",
    "len(\"Hello\")\n",
    "```\n",
    "tells Python to run already written code that counts the number of characters in the string \"Hello\".\n",
    "\n",
    "These functions are inbuilt into Python, meaning they are always available for us to run from our code. However, we can also define our own functions so that we can reuse pieces of our code throughout our programs. \n",
    "\n",
    "Reusing code not only makes our programs shorter and more organised, it makes our code easier to maintain as we only have to modify the single function rather than find and edit the code wherever we have performed the specific task."
   ]
  },
  {
   "cell_type": "markdown",
   "metadata": {},
   "source": [
    "### A function may take zero or more arguments\n",
    "\n",
    "* We have seen some functions already — now let's take a closer look.\n",
    "* An **argument** is a value passed into a function.\n",
    "* `len()` takes exactly one.\n",
    "* `int`, `str`, and `float` create a new value from an existing one.\n",
    "* `print` takes zero or more.\n",
    "* `print` with no arguments prints a blank line.\n",
    "  * Must always use parentheses, even if they're empty, so that Python knows a function is being called.\n",
    "* `id()` returns a unique integer (identity) of a passed argument object."
   ]
  },
  {
   "cell_type": "code",
   "execution_count": null,
   "metadata": {},
   "outputs": [],
   "source": [
    "print('before')\n",
    "print()\n",
    "print('after')"
   ]
  },
  {
   "cell_type": "markdown",
   "metadata": {},
   "source": [
    "### Use the built-in function help to get help for a function\n",
    "* Every built-in function has online documentation."
   ]
  },
  {
   "cell_type": "code",
   "execution_count": 3,
   "metadata": {},
   "outputs": [
    {
     "name": "stdout",
     "output_type": "stream",
     "text": [
      "Help on built-in function print in module builtins:\n",
      "\n",
      "print(...)\n",
      "    print(value, ..., sep=' ', end='\\n', file=sys.stdout, flush=False)\n",
      "    \n",
      "    Prints the values to a stream, or to sys.stdout by default.\n",
      "    Optional keyword arguments:\n",
      "    file:  a file-like object (stream); defaults to the current sys.stdout.\n",
      "    sep:   string inserted between values, default a space.\n",
      "    end:   string appended after the last value, default a newline.\n",
      "    flush: whether to forcibly flush the stream.\n",
      "\n"
     ]
    }
   ],
   "source": [
    "help(print)"
   ]
  },
  {
   "cell_type": "markdown",
   "metadata": {},
   "source": [
    "### Every function returns something\n",
    "\n",
    "* Every function call produces some result.\n",
    "* If the function doesn't have a useful result to return, it usually returns the special value `None`."
   ]
  },
  {
   "cell_type": "code",
   "execution_count": 1,
   "metadata": {},
   "outputs": [
    {
     "name": "stdout",
     "output_type": "stream",
     "text": [
      "example\n",
      "result of print is None\n"
     ]
    }
   ],
   "source": [
    "result = print('example')\n",
    "print('result of print is', result)"
   ]
  },
  {
   "cell_type": "markdown",
   "metadata": {
    "button": false,
    "new_sheet": false,
    "run_control": {
     "read_only": false
    },
    "tags": []
   },
   "source": [
    "## A simple function"
   ]
  },
  {
   "cell_type": "markdown",
   "metadata": {
    "button": false,
    "new_sheet": false,
    "run_control": {
     "read_only": false
    }
   },
   "source": [
    "A simple function to print \"Hello\" is shown in the following code.\n",
    "\n",
    "<div class=\"alert alert-info\"><b>\n",
    "Run this code and nothing will (appear to) happen.\n",
    "</div></b>"
   ]
  },
  {
   "cell_type": "code",
   "execution_count": null,
   "metadata": {
    "button": false,
    "new_sheet": false,
    "run_control": {
     "read_only": false
    }
   },
   "outputs": [],
   "source": [
    "#  Define the function called \"say_hello()\". The function, when called, prints \"Hello\".\n",
    "def say_hello():\n",
    "    \n",
    "    # Call the inbuilt function \"print()\" to output the string \"Hello\".\n",
    "    print(\"Hello\")"
   ]
  },
  {
   "cell_type": "markdown",
   "metadata": {},
   "source": [
    "Why wasn't \"Hello\" printed when you ran this code?\n",
    "\n",
    "This is because all we are doing is **defining** a function called `say_hello()`. That is what <span style=\"color:green; font-weight:bold\"> def </span> stands for. When we define a function it is saved in computer memory ready to be used (like a variable). \n",
    "\n",
    "In order to get the function to do something we need to **call** it by using its name with the parentheses. \n",
    "\n",
    "<div class=\"alert alert-info\"><b>\n",
    "This is shown in the following code. Run it and you will see that it outputs \"Hello\".\n",
    "</div></b>"
   ]
  },
  {
   "cell_type": "code",
   "execution_count": null,
   "metadata": {},
   "outputs": [],
   "source": [
    "def say_hello():\n",
    "    print(\"Hello\")\n",
    "\n",
    "    \n",
    "# Call the function \"say_hello()\".\n",
    "say_hello()"
   ]
  },
  {
   "cell_type": "markdown",
   "metadata": {},
   "source": [
    "## How functions work"
   ]
  },
  {
   "cell_type": "markdown",
   "metadata": {},
   "source": [
    "Let's explain the syntax of a function definition. The line \n",
    "```python \n",
    "def say_hello():\n",
    "```\n",
    "tells Python that what we are about to do is define a function called `say_hello()`. The parentheses are necessary as will become clear later. The colon is also necessary.\n",
    "\n",
    "The next line is\n",
    "```python\n",
    "    print(\"Hello\")\n",
    "```\n",
    "which calls the inbuilt function `print()` that simply prints \"Hello\" to the screen. The important thing here is that the line is indented. Which means that it is inside the function. Any code lines that are indented below <span style=\"color:green; font-weight:bold; font-family:monospace\"> def</span> are inside that particular function.\n",
    "\n",
    "If you un-indent the `print(\"Hello\")` statement you will get an `IndentationError` (try it).\n",
    "\n",
    "The end of the function occurs at the first **non-indented** line after <span style=\"color:green; font-weight:bold; font-family:monospace\"> def</span>.\n",
    "\n",
    "When we *call* a function, Python jumps into the function and executes the commands inside it. Python then returns to the end of the call. The figure below shows the order of execution of lines of code for the `say_hello()` function.\n",
    "\n",
    "![](images/function.png)\n",
    "\n",
    "Notice that the program begins execution at the first non-indented line just after the function definition. When we call `say_hello()` the code jumps into the function at the line `def say_hello():`. It executes the `print(\"Hello\")` function (which entails jumping into the inbuilt code of the `print()` function which we cannot see but is there in computer memory). It then returns from the function to the next line in the main code (which in this case is the end of the program)"
   ]
  },
  {
   "cell_type": "markdown",
   "metadata": {},
   "source": [
    "## Functions must be defined before they are called"
   ]
  },
  {
   "cell_type": "markdown",
   "metadata": {},
   "source": [
    "In the following code the function `hi()` is called before it is defined. If you run it you will see it gives a `NameError` because Python has not saved the function's definition in memory when it was called."
   ]
  },
  {
   "cell_type": "markdown",
   "metadata": {},
   "source": [
    "## Task:"
   ]
  },
  {
   "cell_type": "markdown",
   "metadata": {},
   "source": [
    "<div class=\"alert alert-success\"><b>\n",
    "Task 2.1: Modify the following code to make it work.\n",
    "</b>"
   ]
  },
  {
   "cell_type": "code",
   "execution_count": null,
   "metadata": {},
   "outputs": [],
   "source": [
    "#FIXME\n",
    "\n",
    "hi()"
   ]
  },
  {
   "cell_type": "markdown",
   "metadata": {},
   "source": [
    "<details><summary {style='color:green;font-weight:bold'}> Click here to see solution to Task 2.1 </summary>\n",
    "    \n",
    "```python\n",
    "\n",
    "def hi():\n",
    "    print(f\"Hi\")\n",
    "```"
   ]
  },
  {
   "cell_type": "markdown",
   "metadata": {},
   "source": [
    "## Some other helpful tips before starting the exercises"
   ]
  },
  {
   "cell_type": "markdown",
   "metadata": {},
   "source": [
    "### In-built functions"
   ]
  },
  {
   "cell_type": "markdown",
   "metadata": {},
   "source": [
    "Let's test out a cool in-built function called `input()`. This is useful if you want to interact with your code. "
   ]
  },
  {
   "cell_type": "code",
   "execution_count": null,
   "metadata": {},
   "outputs": [],
   "source": [
    "num = input (\"Enter number :\") \n",
    "print(num) "
   ]
  },
  {
   "cell_type": "markdown",
   "metadata": {},
   "source": [
    "## Tasks"
   ]
  },
  {
   "cell_type": "markdown",
   "metadata": {
    "tags": []
   },
   "source": [
    "<div class=\"alert alert-success\">\n",
    "<b>Task 2.2: Write a function called `string_length()` that prints the length of the word \"Hello\".\n",
    "</b>"
   ]
  },
  {
   "cell_type": "code",
   "execution_count": null,
   "metadata": {},
   "outputs": [],
   "source": [
    "def string_length():\n",
    "    #FIXME"
   ]
  },
  {
   "cell_type": "code",
   "execution_count": null,
   "metadata": {},
   "outputs": [],
   "source": [
    "# Now calling the function\n",
    "string_length()"
   ]
  },
  {
   "cell_type": "markdown",
   "metadata": {},
   "source": [
    "<details><summary {style=\"color:green;font-weight:bold\"}> Click here to see solution to Task 2.2 </summary>\n",
    "    \n",
    "```python\n",
    "def string_length():\n",
    "    \n",
    "    # Get the length of the string Hello\n",
    "    length = len(\"Hello\")\n",
    "    # Pring the length to screen\n",
    "    print(\"The length of the string 'Hello' is: \"+length)\n",
    "```\n",
    "\n",
    " </details>"
   ]
  },
  {
   "cell_type": "markdown",
   "metadata": {},
   "source": [
    "<div class=\"alert alert-success\">\n",
    "<b>Task 2.3: Write a function called `hello_me()` that asks for input of your name then prints \"Hello\" followed by your name.\n",
    "</b>\n",
    "    \n",
    "Hint: Use the built in function `input()` to read input from a cell.\n"
   ]
  },
  {
   "cell_type": "code",
   "execution_count": 4,
   "metadata": {},
   "outputs": [],
   "source": [
    "def hello_me():\n",
    "    #FIXME\n"
   ]
  },
  {
   "cell_type": "code",
   "execution_count": 5,
   "metadata": {},
   "outputs": [
    {
     "name": "stdin",
     "output_type": "stream",
     "text": [
      "Enter your name:  Tom\n"
     ]
    },
    {
     "name": "stdout",
     "output_type": "stream",
     "text": [
      "HelloTom\n"
     ]
    }
   ],
   "source": [
    "# Now calling the function\n",
    "hello_me()"
   ]
  },
  {
   "cell_type": "markdown",
   "metadata": {},
   "source": [
    "<details><summary {style='color:green;font-weight:bold'}> Click here to see solution to Task 2.3 </summary>\n",
    "    \n",
    "```python\n",
    "def hello_me():\n",
    "    name = input(\"Enter your name: \")\n",
    "    print(\"Hello \"+name)\n",
    "```"
   ]
  },
  {
   "cell_type": "markdown",
   "metadata": {},
   "source": [
    "<div class=\"alert alert-success\">\n",
    "<b>Task 2.4: Write a function called `multiply_two_numbers()` that asks for input of two numbers and then prints their product.</b>\n",
    "</div>"
   ]
  },
  {
   "cell_type": "code",
   "execution_count": null,
   "metadata": {},
   "outputs": [],
   "source": [
    "def multiply_two_numbers():\n",
    "    #FIXME"
   ]
  },
  {
   "cell_type": "code",
   "execution_count": null,
   "metadata": {},
   "outputs": [],
   "source": [
    "# Now calling the function\n",
    "multiply_two_numbers()"
   ]
  },
  {
   "cell_type": "markdown",
   "metadata": {},
   "source": [
    "<details><summary {style='color:green;font-weight:bold'}> Click here to see solution to Task 2.4 </summary>\n",
    "    \n",
    "```python\n",
    "def multiply_two_numbers():\n",
    "    \"\"\"Enter two numbers and print their product\"\"\"\n",
    "    x = float(input(\"Enter a number: \"))\n",
    "    y = float(input(\"Enter a number: \"))\n",
    "    print(x*y)\n",
    "```"
   ]
  },
  {
   "cell_type": "markdown",
   "metadata": {},
   "source": [
    "# 3. Passing values (arguments) to functions\n",
    "<a id=\"arguments\"></a>"
   ]
  },
  {
   "cell_type": "markdown",
   "metadata": {},
   "source": [
    "The `say_hello()` function in the earlier was a bit pointless. We called it to call the `print()` function to print \"hello\". We could have simply written `print(\"Hello\")` without bothering to define and call our own function `say_hello()`.\n",
    "\n",
    "Functions become useful when they perform the same task on different values passed to them. For example, say we want to write a function to print \"Hello\" followed by someone's name, but the name can be different each time we call the function. We can do this by **passing a value** to the function. The technical name for the value passed to the function is an **argument**.\n",
    "\n",
    "This is precisely what we do when we call `print()` or `len()`. For example, `print(\"Hello\")` passes the string **argument** \"Hello\" to the function `print()` to output to your screen.\n",
    "\n",
    "Let's change the `say_hello()` function to take someone's name as an argument.\n",
    "\n",
    "<div class=\"alert alert-info\"><b>\n",
    "Run the following code to see how this is done.</b>\n",
    "</div>"
   ]
  },
  {
   "cell_type": "code",
   "execution_count": null,
   "metadata": {},
   "outputs": [],
   "source": [
    "def say_hello(name):\n",
    "    \"\"\"Print 'Hello' followed by name\"\"\"\n",
    "\n",
    "    print(\"Hello \"+name)\n",
    "    \n",
    "    \n",
    "# Call the function \"say_hello()\" twice with different names.\n",
    "say_hello(\"Harry\")\n",
    "say_hello(\"Hermione\")"
   ]
  },
  {
   "cell_type": "markdown",
   "metadata": {},
   "source": [
    "We've changed the definition of the function so that we can pass an argument to it like so:\n",
    "```python\n",
    "def say_hello(name):\n",
    "```\n",
    "`name` is called a **parameter** which is a variable in a function definition.\n",
    "\n",
    "When we call `say_hello(\"Harry\")` with the argument `\"Harry\"`, the string `\"Harry\"` is assigned to the parameter `name` when the code enters the function. This means when we do\n",
    "```python\n",
    "    print(\"Hello \"+name)\n",
    "```\n",
    "the function outputs `Hello Harry`.\n",
    "\n",
    "When we call `say_hello(\"Hermione\")` with the argument `\"Hermione\"`, the string `\"Hermione\"` is assigned to the parameter `name` so the function outputs `Hello Hermione`."
   ]
  },
  {
   "cell_type": "markdown",
   "metadata": {},
   "source": [
    "## Variables can be arguments"
   ]
  },
  {
   "cell_type": "markdown",
   "metadata": {},
   "source": [
    "In the above example we passed a string to `say_hello()`. But we can also pass a variable to a function.\n",
    "\n"
   ]
  },
  {
   "cell_type": "markdown",
   "metadata": {},
   "source": [
    "\n",
    "But first, let's make a new function, that's a little more *sciency* than printing names.\n",
    "\n",
    "The function below will convert a temperature in fahrenheit to celsius, which takes one argument `temp`"
   ]
  },
  {
   "cell_type": "code",
   "execution_count": null,
   "metadata": {},
   "outputs": [],
   "source": [
    "def fahr_to_celsius(temp):\n",
    "    return ((temp - 32) * (5/9))"
   ]
  },
  {
   "cell_type": "markdown",
   "metadata": {},
   "source": [
    "<div class=\"alert alert-info\"><b>\n",
    "Run the following two code cells to see how this works.</b>\n",
    "</div>"
   ]
  },
  {
   "cell_type": "code",
   "execution_count": null,
   "metadata": {},
   "outputs": [],
   "source": [
    "freezing = 32\n",
    "\n",
    "fahr_to_celsius(freezing)"
   ]
  },
  {
   "cell_type": "code",
   "execution_count": null,
   "metadata": {},
   "outputs": [],
   "source": [
    "boiling = 212\n",
    "\n",
    "fahr_to_celsius(boiling)"
   ]
  },
  {
   "cell_type": "markdown",
   "metadata": {},
   "source": [
    "Note how we have to execute these in two separate cells to return the answer, otherwise the final use of the function will be the only one which is returned. Also note that the argument passed to the function (e.g., `freezing` or `boiling`) does not need to have the same name as the function's defined parameter (e.g., `temp`)."
   ]
  },
  {
   "cell_type": "markdown",
   "metadata": {},
   "source": [
    "## Functions can take more than one argument"
   ]
  },
  {
   "cell_type": "markdown",
   "metadata": {},
   "source": [
    "The `say_hello()` function has one parameter. But functions can have any number of parameters.\n",
    "\n",
    "Let's rewrite `say_hello()` to take two arguments: a first name and a surname."
   ]
  },
  {
   "cell_type": "code",
   "execution_count": null,
   "metadata": {},
   "outputs": [],
   "source": [
    "def say_hello(forename, surname):\n",
    "    \"\"\"Print 'Hello' followed by forename and surname\"\"\"\n",
    "    \n",
    "    print(\"Hello \"+forename+\" \"+surname)\n",
    "    \n",
    "        \n",
    "# Call the function \"say_hello()\" with two strings.\n",
    "say_hello(\"Harry\", \"Potter\")\n",
    "\n",
    "# Call the function \"say_hello()\" with two string variables.\n",
    "first_name = \"Dobby\"\n",
    "family_name = \"\"\n",
    "say_hello(first_name, family_name)"
   ]
  },
  {
   "cell_type": "markdown",
   "metadata": {},
   "source": [
    "In the first call, `forename` is assigned the value `\"Harry\"` and `surname` the value `\"Potter\"`.\n",
    "\n",
    "In the second call, `forename` is assigned the value `\"Dobby\"` and `surname` is assigned an empty string."
   ]
  },
  {
   "cell_type": "markdown",
   "metadata": {},
   "source": [
    "## 4. End of Session Task\n",
    "<a id='final-task'></a>"
   ]
  },
  {
   "cell_type": "markdown",
   "metadata": {
    "button": false,
    "new_sheet": false,
    "run_control": {
     "read_only": false
    }
   },
   "source": [
    "<div class=\"alert alert-warning\">\n",
    "<b>End of Class Task: Write a function called <code>ideal_gas()</code> which prints the pressure of an ideal gas when given the volume, temperature and number of moles. </b>\n",
    "\n",
    "You can use either function arguments or console input to get the volume, temperature and number of moles.\n",
    "\n",
    "The function definition has been started in the code cell below. You should complete the function and then call the function to check it works.\n",
    "\n",
    "You should use values of 1 m<sup>3</sup>, 273 K and 2 moles. Please get a demonstrator to check the printed pressure for these values.\n",
    "\n",
    "Remember, the equation for an ideal gas is:\n",
    "$pV=nRT$\n",
    "</div>"
   ]
  },
  {
   "cell_type": "code",
   "execution_count": null,
   "metadata": {},
   "outputs": [],
   "source": [
    "def ideal_gas:\n",
    "    #FIXME"
   ]
  }
 ],
 "metadata": {
  "kernelspec": {
   "display_name": "Python 3 (ipykernel)",
   "language": "python",
   "name": "python3"
  },
  "language_info": {
   "codemirror_mode": {
    "name": "ipython",
    "version": 3
   },
   "file_extension": ".py",
   "mimetype": "text/x-python",
   "name": "python",
   "nbconvert_exporter": "python",
   "pygments_lexer": "ipython3",
   "version": "3.9.13"
  },
  "toc": {
   "base_numbering": 1,
   "nav_menu": {},
   "number_sections": false,
   "sideBar": true,
   "skip_h1_title": false,
   "title_cell": "Table of Contents",
   "title_sidebar": "Contents",
   "toc_cell": false,
   "toc_position": {},
   "toc_section_display": true,
   "toc_window_display": false
  },
  "vscode": {
   "interpreter": {
    "hash": "02f18a21a35e5954c18fa769bc3437e1d5dd28e5f0ee8ec3c48889ec5af25b37"
   }
  }
 },
 "nbformat": 4,
 "nbformat_minor": 4
}
