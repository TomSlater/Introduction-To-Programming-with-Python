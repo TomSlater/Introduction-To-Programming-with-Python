{
 "cells": [
  {
   "cell_type": "markdown",
   "metadata": {
    "slideshow": {
     "slide_type": "slide"
    }
   },
   "source": [
    "# Pre-reading for \"An Introduction to Programming with Python\"\n",
    "\n",
    "<a rel=\"license\" href=\"http://creativecommons.org/licenses/by/4.0/\"><img alt=\"Creative Commons Licence\" style=\"border-width:0\" src=\"https://i.creativecommons.org/l/by/4.0/88x31.png\" title='This work is licensed under a Creative Commons Attribution 4.0 International License.' align=\"right\"/></a>\n",
    "\n",
    "Authors: \n",
    "- Dr James Cumby \n",
    "- Dr Antonia Mey\n",
    "- Dr Tom Slater\n",
    "\n",
    "Email: slatert2@cardiff.ac.uk"
   ]
  },
  {
   "cell_type": "markdown",
   "metadata": {
    "slideshow": {
     "slide_type": "skip"
    }
   },
   "source": [
    "## Introduction\n",
    "\n",
    "The lab sessions for \"An introduction to Programming with Python\" will see you use jupyter notebooks to run python code. As pre-reading for the sessions, this notebook will allow you to familiarize yourself with jupyter notebooks so that you can easily follow the lab sessions.\n",
    "\n",
    "The material used for these labs has been adapted from the [Data-driven-chemistry](https://github.com/Edinburgh-Chemistry-Teaching/Data-driven-chemistry) course taught at the University of Edinburgh in the School of Chemistry."
   ]
  },
  {
   "cell_type": "markdown",
   "metadata": {
    "slideshow": {
     "slide_type": "slide"
    }
   },
   "source": [
    "### Learning objectives:\n",
    "\n",
    "By the end of this pre-reading, you should be able to:\n",
    "- Interact with a Jupyter notebook\n",
    "\n",
    "<!-- begin no_present -->\n",
    "Some of the content is adapted from [Software carpentry lessons](http://swcarpentry.github.io/python-novice-gapminder/index.html).\n",
    "<!-- end no_present -->"
   ]
  },
  {
   "cell_type": "markdown",
   "metadata": {},
   "source": [
    "### Table of Contents\n",
    "\n",
    "1. [Getting Started with Jupyter Notebooks](#1-getting-started-with-jupyter-notebooks)    \n",
    "    1.1 [Completing the \"labs\"](#11-following-the-lecture)    \n",
    "    1.2 [Tasks and Solutions](#tasks_how_to)    \n",
    "2. [Notebook Layout](#12-notebook-layout)\n",
    "3. [The Jupyter Kernel](#12-the-jupyter-kernel) "
   ]
  },
  {
   "cell_type": "markdown",
   "metadata": {},
   "source": [
    "### Link to Jupyter documentation:\n",
    "\n",
    "You can find useful information about using Jupyter at [docs.jupyter.org](https://docs.jupyter.org/en/latest/).\n",
    "\n",
    "### Further reading: \n",
    "- Kenneth Reitz and Tanya Schlusser, The Hitchhiker's Guide to Python, 2nd Ed., Sep 2016, ISBN: 978-1491933176 \n",
    "- Christian Hill, Learning Scientific Programming with Python, 2nd Ed, Dec 2020, ISBN: 978-1108745918\n",
    "- Al Sweigart, Automate The Boring Stuff With Python, 2nd Ed., Oct 2019, ISBN: 978-1593279929 \n",
    "- Eric Matthes, Python Crash Course, 2nd Ed., May 2019, ISBN: 978-1593279288\n",
    "- Alex Martelli, Anna Ravenscroft, Steve Holden, Python in a Nutshell, 3rd Ed., 2017, ISBN: 978-1449392925"
   ]
  },
  {
   "cell_type": "markdown",
   "metadata": {
    "slideshow": {
     "slide_type": "skip"
    }
   },
   "source": [
    "**Useful Jupyter Commands:**\n",
    "**<span style=\"color:black\">Jupyter Cheat Sheet</span>**\n",
    "- To run the currently highlighted cell and move focus to the next cell, hold <kbd>&#x21E7; Shift</kbd> and press <kbd>&#x23ce; Enter</kbd>;\n",
    "- To run the currently highlighted cell and keep focus in the same cell, hold <kbd>&#x21E7; Ctrl</kbd> and press <kbd>&#x23ce; Enter</kbd>;\n",
    "- To get help for a specific function, place the cursor within the function's brackets, hold <kbd>&#x21E7; Shift</kbd>, and press <kbd>&#x21E5; Tab</kbd>;"
   ]
  },
  {
   "cell_type": "markdown",
   "metadata": {
    "slideshow": {
     "slide_type": "slide"
    },
    "tags": []
   },
   "source": [
    "## 1 Getting Started with Jupyter Notebooks<a id=\"1-getting-started-with-jupyter-notebooks\"></a>"
   ]
  },
  {
   "cell_type": "markdown",
   "metadata": {
    "slideshow": {
     "slide_type": "fragment"
    }
   },
   "source": [
    "<!-- begin tutor -->\n",
    "### 1.1 Completing the \"labs\" <a id=\"following-the-labs\"></a>\n",
    "- Follow the notebooks through the sessions, they will guide you through the material and ask you to complete specific tasks.\n",
    "- Demonstrators are there to help you, please ask questions if you are stuck or just curious!\n",
    "- Feel free to make additional notes in your notebook if it will help you.\n",
    "\n",
    "<!-- end tutor -->"
   ]
  },
  {
   "cell_type": "markdown",
   "metadata": {
    "slideshow": {
     "slide_type": "skip"
    }
   },
   "source": [
    "Over the course of this lab module you will get an introduction to how to use computer programming to help with data handling in chemistry. We will focus on Python: an easy-to-learn, but very powerful, programming language. As well as powering many of the apps on your phone, Python is widely used in many different disciplines. \n",
    "\n",
    "Python code can be run in many ways, but we will use Jupyter Notebooks like the one you're reading currently. Jupyter Notebooks allow you to combine live code and explanatory text in the same document, and can work like a digital lab book for computer code. "
   ]
  },
  {
   "cell_type": "markdown",
   "metadata": {},
   "source": [
    "### 1.2 Tasks and Solutions\n",
    "<a id='tasks_how_to'></a>\n",
    "There are **Tasks** in each unit for you to try by yourself. These are shown in green, like this:"
   ]
  },
  {
   "cell_type": "markdown",
   "metadata": {},
   "source": [
    "<div class=\"alert alert-success\"><b>Task xx: This is a task.</b>\n",
    "\n",
    "This is a description of the task. **Try to do the task yourself first!**\n",
    "</div>\n"
   ]
  },
  {
   "cell_type": "markdown",
   "metadata": {},
   "source": [
    "If you get stuck, the solutions are provided in a drop-down window below the task description:"
   ]
  },
  {
   "cell_type": "markdown",
   "metadata": {},
   "source": [
    "<details><summary {style=\"color:green;font-weight:bold\"}> Click here to see the solution to Task xx. </summary>\n",
    "\n",
    "```python\n",
    "# Solution code\n",
    "# Try the task yourself first\n",
    "# You can ask demonstrators for help\n",
    "```\n"
   ]
  },
  {
   "cell_type": "markdown",
   "metadata": {},
   "source": [
    "Try to avoid copy-pasting solutions."
   ]
  },
  {
   "cell_type": "markdown",
   "metadata": {},
   "source": [
    "There are also some **Advanced tasks** which you should only attempt if you have time. These extra exercises are shown in yellow:"
   ]
  },
  {
   "cell_type": "markdown",
   "metadata": {},
   "source": [
    "<div class=\"alert alert-warning\"><b> Advanced Task XX: More information on Task</b>\n",
    "\n",
    "This is a description of an extra exercise that you can try out if you have time.\n",
    "</div>"
   ]
  },
  {
   "cell_type": "markdown",
   "metadata": {},
   "source": [
    "## 2. Notebook Layout\n",
    "<a id=\"#12-notebook-layout\"></a>"
   ]
  },
  {
   "cell_type": "markdown",
   "metadata": {
    "slideshow": {
     "slide_type": "skip"
    }
   },
   "source": [
    "<!-- begin no_present -->\n",
    "A Jupyter notebook consists of a series of **cells** which can contain either formatted text (a **Markdown cell**) or executable code (a **code cell**). The type of a cell can be changed using the toolbar at the top of the page.\n",
    "For example, if you click on this cell it will be highlighted by a box, and the toolbar will display 'Markdown':\n",
    "![Image showing 'Markdown' in drop-down box](images/markdown_dropdown.png)\n",
    "\n",
    "The cell below is a **code** cell. In addition to showing **Code** in the drop-down box (try clicking on it!), code cells also display the text `In []:` to the left-hand side. If the code cell has been executed, a number will appear between the square brackets.\n",
    "\n",
    "<!-- end no_present -->"
   ]
  },
  {
   "cell_type": "markdown",
   "metadata": {
    "slideshow": {
     "slide_type": "fragment"
    }
   },
   "source": [
    "<!-- begin tutor -->\n",
    "Jupyter Notebooks contain **cells**:\n",
    "<!-- end tutor -->"
   ]
  },
  {
   "cell_type": "code",
   "execution_count": 1,
   "metadata": {
    "button": false,
    "nbgrader": {},
    "new_sheet": false,
    "run_control": {
     "frozen": false,
     "read_only": false
    },
    "slideshow": {
     "slide_type": "fragment"
    }
   },
   "outputs": [],
   "source": [
    "# this is a code cell"
   ]
  },
  {
   "cell_type": "markdown",
   "metadata": {},
   "source": [
    "<!-- begin tutor -->\n",
    "Cells contain either code or formatted text (**Markdown**) and can be switched from the toolbar:\n",
    "![Image showing 'Markdown' in drop-down box](images/markdown_dropdown.png)\n",
    "<!-- end tutor -->"
   ]
  },
  {
   "cell_type": "markdown",
   "metadata": {
    "button": false,
    "nbgrader": {},
    "new_sheet": false,
    "run_control": {
     "read_only": false
    },
    "slideshow": {
     "slide_type": "slide"
    }
   },
   "source": [
    "### Command mode and edit mode <a id=\"command-mode-and-edit-mode\"></a>"
   ]
  },
  {
   "cell_type": "markdown",
   "metadata": {
    "button": false,
    "nbgrader": {},
    "new_sheet": false,
    "run_control": {
     "read_only": false
    },
    "slideshow": {
     "slide_type": "fragment"
    }
   },
   "source": [
    "In Jupyter, each cell can be switched between two modes:\n",
    "\n",
    "<br>\n",
    "<dl>\n",
    "    <dt>Edit Mode</dt>\n",
    "    <dd>Allows you to modify the text or code</dd>\n",
    "    <dt>Command mode</dt>\n",
    "    <dd>Allows you to execute the code in a cell</dd>\n",
    "</dl>"
   ]
  },
  {
   "cell_type": "markdown",
   "metadata": {
    "slideshow": {
     "slide_type": "fragment"
    }
   },
   "source": [
    "<!-- begin tutor -->\n",
    "- Press <kbd>&#x23ce; Enter</kbd> to switch to edit mode\n",
    "- <kbd>Esc</kbd> will switch back to command mode\n",
    "<!-- end tutor -->"
   ]
  },
  {
   "cell_type": "markdown",
   "metadata": {
    "button": false,
    "nbgrader": {},
    "new_sheet": false,
    "run_control": {
     "read_only": false
    },
    "slideshow": {
     "slide_type": "skip"
    }
   },
   "source": [
    "By default the notebook begins in command mode.\n",
    "<div class=\"alert alert-info\">\n",
    "<b>When you are in command mode</b>, you can press <kbd>&#x23ce; Enter</kbd>to switch to edit mode. The left border of the cell you currently have selected will turn green, and a cursor will appear.\n",
    "</div>\n",
    "\n",
    "<div class=\"alert alert-info\">\n",
    "<b>When you are in edit mode</b>, you can press <kbd>Esc</kbd> to switch to command mode. The left border of the cell you currently have selected will turn blue, and the cursor will disappear.\n",
    "</div>\n"
   ]
  },
  {
   "cell_type": "markdown",
   "metadata": {
    "button": false,
    "nbgrader": {},
    "new_sheet": false,
    "run_control": {
     "read_only": false
    },
    "slideshow": {
     "slide_type": "slide"
    }
   },
   "source": [
    "### Markdown cells <a id=\"markdown-cells\"></a>\n",
    "\n",
    "Markdown cells can display formatted text and pictures, and are an excellent way to describe what your code does and discuss the results (imagine a lab report with interactive calculations)."
   ]
  },
  {
   "cell_type": "markdown",
   "metadata": {
    "button": false,
    "nbgrader": {},
    "new_sheet": false,
    "run_control": {
     "read_only": false
    },
    "slideshow": {
     "slide_type": "subslide"
    }
   },
   "source": [
    "In **command mode** a markdown cell might look like this:\n",
    "\n",
    "![Markdown cell in command mode](images/command-mode-markdown-rendered.png)\n",
    "\n",
    "Then, when you press <kbd>&#x23ce; Enter</kbd>, it will change to **edit mode**:\n",
    "\n",
    "![Markdown cell in edit mode](images/edit-mode-markdown.png)\n",
    "\n",
    "Now, when we press <kbd>Esc</kbd>, it will change back to **command mode**:\n",
    "\n",
    "![Markdown cell in command mode after editing](images/command-mode-markdown-unrendered.png)\n",
    "\n",
    "Notice that the markdown cell no longer looks like it did originally; we need to **run** the cell in order to display the formatted markdown. Do this by pressing <kbd>Ctrl</kbd> and <kbd>&#x23ce; Enter</kbd>, and then it will go back to looking like it did originally:\n",
    "\n",
    "![Markdown cell after running the cell](images/command-mode-markdown-rendered.png)"
   ]
  },
  {
   "cell_type": "markdown",
   "metadata": {
    "slideshow": {
     "slide_type": "subslide"
    }
   },
   "source": [
    "### Your turn!\n",
    "Test out this cell, switching between **command mode**, **edit mode** and **running** the cell."
   ]
  },
  {
   "cell_type": "markdown",
   "metadata": {
    "button": false,
    "nbgrader": {},
    "new_sheet": false,
    "run_control": {
     "read_only": false
    },
    "slideshow": {
     "slide_type": "slide"
    }
   },
   "source": [
    "### Code cells <a id=\"code-cells\"></a>\n",
    "\n",
    "Code cells contain code that should run, and possibly produce an output (such as graphs, tables, numbers, etc)."
   ]
  },
  {
   "cell_type": "markdown",
   "metadata": {
    "button": false,
    "nbgrader": {},
    "new_sheet": false,
    "run_control": {
     "read_only": false
    },
    "slideshow": {
     "slide_type": "subslide"
    }
   },
   "source": [
    "Similar to Markdown cells, code cells have both **command** mode:\n",
    "\n",
    "![Code cell in command mode](images/command-mode-outline.png)\n",
    "\n",
    "and **edit** mode (switch to **edit** mode using <kbd>&#x23ce; Enter</kbd>):\n",
    "\n",
    "![Code cell in edit mode](images/edit-mode-outline.png)\n",
    "\n",
    "Pressing escape will go back to **command mode** again:\n",
    "\n",
    "![Code cell in command mode again](images/command-mode-outline.png)\n",
    "\n",
    "The main difference between markdown and code cells is that if we press <kbd>Ctrl</kbd> and <kbd>&#x23ce; Enter</kbd>, this will **run** the code in the code cell:\n",
    "\n",
    "![Running code cell](images/code-cell-run.png)"
   ]
  },
  {
   "cell_type": "markdown",
   "metadata": {
    "button": false,
    "nbgrader": {},
    "new_sheet": false,
    "run_control": {
     "read_only": false
    },
    "slideshow": {
     "slide_type": "slide"
    }
   },
   "source": [
    "### Running code cells <a id=\"116-running-code-cells\"></a>"
   ]
  },
  {
   "cell_type": "markdown",
   "metadata": {
    "button": false,
    "nbgrader": {},
    "new_sheet": false,
    "run_control": {
     "read_only": false
    },
    "slideshow": {
     "slide_type": "fragment"
    }
   },
   "source": [
    "Code cells can contain any valid Python code in them. When you run the cell, the code is executed and any output is displayed.\n",
    "\n",
    "<div class=\"alert alert-info\">\n",
    "    You can execute cells with <kbd>Ctrl</kbd> and <kbd>&#x23ce; Enter</kbd> which will keep the current cell selected, or <kbd>&#x21E7; Shift</kbd> and <kbd>&#x23ce; Enter</kbd> which will move to the next cell.\n",
    "</div>"
   ]
  },
  {
   "cell_type": "markdown",
   "metadata": {
    "button": false,
    "nbgrader": {},
    "new_sheet": false,
    "run_control": {
     "read_only": false
    },
    "slideshow": {
     "slide_type": "skip"
    }
   },
   "source": [
    "### Your turn:\n",
    "\n",
    "Try running the following cell and see what it prints out (don't worry about understanding the code for now):"
   ]
  },
  {
   "cell_type": "code",
   "execution_count": 1,
   "metadata": {
    "button": false,
    "nbgrader": {},
    "new_sheet": false,
    "run_control": {
     "frozen": false,
     "read_only": false
    },
    "slideshow": {
     "slide_type": "subslide"
    }
   },
   "outputs": [
    {
     "name": "stdout",
     "output_type": "stream",
     "text": [
      "Printing cumulative sum from 1-10:\n",
      "Sum of 1 to 1 is 1\n",
      "Sum of 1 to 2 is 3\n",
      "Sum of 1 to 3 is 6\n",
      "Sum of 1 to 4 is 10\n",
      "Sum of 1 to 5 is 15\n",
      "Sum of 1 to 6 is 21\n",
      "Sum of 1 to 7 is 28\n",
      "Sum of 1 to 8 is 36\n",
      "Sum of 1 to 9 is 45\n",
      "Sum of 1 to 10 is 55\n",
      "Done printing numbers.\n"
     ]
    }
   ],
   "source": [
    "print(\"Printing cumulative sum from 1-10:\")\n",
    "\n",
    "total = 0\n",
    "\n",
    "for i in range(1, 11):\n",
    "    total += i\n",
    "    print( f'Sum of 1 to {i} is {total}')\n",
    "\n",
    "print( 'Done printing numbers.' )"
   ]
  },
  {
   "cell_type": "markdown",
   "metadata": {
    "button": false,
    "nbgrader": {},
    "new_sheet": false,
    "run_control": {
     "read_only": false
    },
    "slideshow": {
     "slide_type": "skip"
    }
   },
   "source": [
    "You'll notice that the output beneath the cell corresponds to the `print` statements in the code. Here is another example which only prints out the final total."
   ]
  },
  {
   "cell_type": "code",
   "execution_count": 2,
   "metadata": {
    "button": false,
    "nbgrader": {},
    "new_sheet": false,
    "run_control": {
     "frozen": false,
     "read_only": false
    },
    "slideshow": {
     "slide_type": "skip"
    }
   },
   "outputs": [
    {
     "name": "stdout",
     "output_type": "stream",
     "text": [
      "55\n"
     ]
    }
   ],
   "source": [
    "total = 0\n",
    "\n",
    "for i in range(1, 11):\n",
    "    total += i\n",
    "\n",
    "print(total)"
   ]
  },
  {
   "cell_type": "markdown",
   "metadata": {
    "button": false,
    "nbgrader": {},
    "new_sheet": false,
    "run_control": {
     "read_only": false
    },
    "slideshow": {
     "slide_type": "slide"
    }
   },
   "source": [
    "## 3 The Jupyter Kernel <a id=\"12-the-jupyter-kernel\"></a>"
   ]
  },
  {
   "cell_type": "markdown",
   "metadata": {
    "slideshow": {
     "slide_type": "fragment"
    }
   },
   "source": [
    "<!-- begin tutor -->\n",
    "The **kernel** is in charge of executing Python code.\n",
    "<!-- end tutor -->"
   ]
  },
  {
   "cell_type": "markdown",
   "metadata": {
    "button": false,
    "nbgrader": {},
    "new_sheet": false,
    "run_control": {
     "read_only": false
    },
    "slideshow": {
     "slide_type": "skip"
    }
   },
   "source": [
    "When you first start a notebook, you are also starting what is called a **kernel**. This is a special program that runs in the background and executes Python code. Whenever you run a code cell, you are telling the kernel to execute the code that is in the cell, and to print the output (if any)."
   ]
  },
  {
   "cell_type": "markdown",
   "metadata": {
    "button": false,
    "nbgrader": {},
    "new_sheet": false,
    "run_control": {
     "read_only": false
    },
    "slideshow": {
     "slide_type": "skip"
    }
   },
   "source": [
    "### Restarting the kernel"
   ]
  },
  {
   "cell_type": "markdown",
   "metadata": {
    "button": false,
    "nbgrader": {},
    "new_sheet": false,
    "run_control": {
     "read_only": false
    },
    "slideshow": {
     "slide_type": "fragment"
    }
   },
   "source": [
    "If you are sure your code is correct but it keeps giving you errors then restarting the kernel often helps.\n",
    "\n",
    "The restart kernel button is the circular arrow in the toolbar (pointed to by the red arrow in this image).\n",
    "\n",
    "![](images/restart-kernel-button.png)\n"
   ]
  },
  {
   "cell_type": "markdown",
   "metadata": {
    "slideshow": {
     "slide_type": "slide"
    }
   },
   "source": [
    "### Help with Jupyer Notebooks <a id=\"118-help-with-jupyer-notebooks\"></a>"
   ]
  },
  {
   "cell_type": "markdown",
   "metadata": {
    "button": false,
    "nbgrader": {},
    "new_sheet": false,
    "run_control": {
     "read_only": false
    },
    "slideshow": {
     "slide_type": "fragment"
    }
   },
   "source": [
    "<div class=\"alert alert-info\">\n",
    "There are many keyboard shortcuts for the notebook. To see a full list of these, go to <b>Help $\\rightarrow$ Keyboard Shortcuts</b>.\n",
    "</div>\n",
    "\n",
    "<div class=\"alert alert-info\">To learn a little more about what things are what in the Jupyter Notebook, check out the user interface tour, which you can access by going to <b>Help$\\rightarrow$User Interface Tour</b>.</div>"
   ]
  },
  {
   "cell_type": "markdown",
   "metadata": {
    "slideshow": {
     "slide_type": "slide"
    }
   },
   "source": [
    "## Tasks <a id=\"task\"></a>\n",
    "Please work through these tasks that will help you to understand how to work with jupyter notebooks."
   ]
  },
  {
   "cell_type": "markdown",
   "metadata": {
    "slideshow": {
     "slide_type": "slide"
    }
   },
   "source": [
    "<div class=\"alert alert-success\"> \n",
    "<b> Task 1.1: Controlling Cells </b>\n",
    "\n",
    "In the Jupyter notebook page are you currently in Command or Edit mode?\n",
    "Switch between the modes. \n",
    "- Use the shortcuts to generate a new cell. \n",
    "- Use the shortcuts to delete a cell. \n",
    "- Use the shortcuts to undo the last cell operation you performed.\n",
    "\n",
    "</div>"
   ]
  },
  {
   "cell_type": "markdown",
   "metadata": {},
   "source": [
    "\n",
    "<details><summary {style='color:green;font-weight:bold'}> Click here to see solution to Task 1.1 </summary>\n",
    "    \n",
    "- switch between command and edit modes using <kbd>&#x23ce; Enter</kbd> and <kbd>Esc</kbd>\n",
    "- Add a cell in command mode either above (<kbd>A</kbd>) or below (<kbd>B</kbd>) the current one\n",
    "- Use <kbd>D</kbd>, <kbd>D</kbd> from command mode to delete a cell\n",
    "- <kbd>Z</kbd> will undo the deletion\n",
    "    \n",
    "</details>"
   ]
  },
  {
   "cell_type": "markdown",
   "metadata": {
    "slideshow": {
     "slide_type": "slide"
    }
   },
   "source": [
    "<div class=\"alert alert-success\"> \n",
    "<b> Task 1.2: Maths in code cells </b>\n",
    "\n",
    "What happens if you write some Maths in a code cell and execute it?\n",
    "\n",
    "What happens if you then switch it to a Markdown cell? For example, put the following in a code cell:\n",
    "\n",
    "```Python\n",
    "6*7+12\n",
    "```\n",
    "</div>"
   ]
  },
  {
   "cell_type": "code",
   "execution_count": 2,
   "metadata": {},
   "outputs": [],
   "source": [
    "# Task 1.2 input\n"
   ]
  },
  {
   "cell_type": "markdown",
   "metadata": {},
   "source": [
    "<details><summary {style='color:green;font-weight:bold'}> Click here to see the solution to Task 1.2</summary>\n",
    "\n",
    "<br>\n",
    "<dl>\n",
    "    <dt> Code cell </dt>\n",
    "    <dd> Math operations are performed and the numerical answer returned </dd>\n",
    "    <dt> Markdown cell </dt>\n",
    "    <dd> Operations are simply rendered as text (see task 1.4 for rendering equations) </dd>\n",
    "\n",
    "</details>"
   ]
  },
  {
   "cell_type": "markdown",
   "metadata": {
    "slideshow": {
     "slide_type": "skip"
    }
   },
   "source": [
    "<div class=\"alert alert-success\"> \n",
    "<b> Task 1.3: Closing and restarting </b>\n",
    "\n",
    "- Close your Jupyter notebook and restart it. \n",
    "- Restart the Kernel\n",
    "- Try opening a blank notebook\n",
    "\n",
    "</div>"
   ]
  },
  {
   "cell_type": "markdown",
   "metadata": {
    "slideshow": {
     "slide_type": "slide"
    }
   },
   "source": [
    "<div class=\"alert alert-warning\"> \n",
    "<b> Extra Task 1.4: Equations </b>\n",
    "\n",
    "Standard Markdown (such as we're using for these notes) won't render equations, but the Notebook will. \n",
    "\n",
    "Create a new Markdown cell and enter the following:\n",
    "`$$\\sum_{i=1}^{N} 2^{-i} \\approx 1$$`\n",
    "\n",
    "(It's probably easier to copy and paste.) What does it display?\n",
    "\n",
    " What do you think the underscore (_), circumflex (^) and dollar signs ($) do?\n",
    " </div>"
   ]
  },
  {
   "cell_type": "code",
   "execution_count": null,
   "metadata": {},
   "outputs": [],
   "source": [
    "# FIXME\n"
   ]
  },
  {
   "cell_type": "markdown",
   "metadata": {},
   "source": [
    "<details><summary {style='color:green;font-weight:bold'}> Click here to see the solution to Task 1.4.</summary>\n",
    "\n",
    "$$\\sum_{i=1}^{N} 2^{-i} \\approx 1$$\n",
    "\n",
    "- Dollar signs ($) surrounding text cause it to be rendered in 'math mode'\n",
    "    - Investigate the difference between single and double dollars\n",
    "- Underscore (_) causes the next character (or group surrounded by curly brackets, {..}) to be subscripted\n",
    "- Circumflex (^) works to superscript\n",
    "</details>"
   ]
  },
  {
   "cell_type": "markdown",
   "metadata": {
    "slideshow": {
     "slide_type": "skip"
    }
   },
   "source": [
    "<div class=\"alert alert-warning\"> \n",
    "<b> Extra Task 1.5: Extra Taks </b>\n",
    "\n",
    "Try to create a table using a markdown cell, containing for instance the formula masses of the first 6 elements.\n",
    "</div>"
   ]
  },
  {
   "cell_type": "markdown",
   "metadata": {},
   "source": [
    "<details><summary {style='color:green;font-weight:bold'}> Click here to see the solution to Exercise 1.5</summary>\n",
    "\n",
    "<br>\n",
    "\n",
    "| Element name | Element mass (g mol<sup>-1</sup>) |\n",
    "|--------------|----------------------------------:|\n",
    "| H            |                             1.008 |\n",
    "| He           |                             4.003 |\n",
    "| Li           |                             6.941 |\n",
    "| Be           |                             9.012 |\n",
    "| B            |                            10.811 |\n",
    "| C            |                            12.011 |\n",
    "\n",
    "</details>\n"
   ]
  },
  {
   "cell_type": "markdown",
   "metadata": {},
   "source": [
    "---"
   ]
  }
 ],
 "metadata": {
  "anaconda-cloud": {},
  "hide_input": false,
  "kernelspec": {
   "display_name": "Python 3 (ipykernel)",
   "language": "python",
   "name": "python3"
  },
  "language_info": {
   "codemirror_mode": {
    "name": "ipython",
    "version": 3
   },
   "file_extension": ".py",
   "mimetype": "text/x-python",
   "name": "python",
   "nbconvert_exporter": "python",
   "pygments_lexer": "ipython3",
   "version": "3.9.13"
  },
  "toc": {
   "base_numbering": 1,
   "nav_menu": {},
   "number_sections": false,
   "sideBar": true,
   "skip_h1_title": false,
   "title_cell": "Table of Contents",
   "title_sidebar": "Contents",
   "toc_cell": false,
   "toc_position": {},
   "toc_section_display": true,
   "toc_window_display": true
  },
  "vscode": {
   "interpreter": {
    "hash": "cf51243a6e93b78f1f5c5d179cd4f66e9bfd7b6269bebfcfdbed7f35483e292c"
   }
  }
 },
 "nbformat": 4,
 "nbformat_minor": 4
}
