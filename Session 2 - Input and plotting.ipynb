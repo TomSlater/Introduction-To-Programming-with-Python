{
 "cells": [
  {
   "cell_type": "markdown",
   "metadata": {},
   "source": [
    "# Session 2: Handling data and plotting\n",
    "\n",
    "<a rel=\"license\" href=\"http://creativecommons.org/licenses/by/4.0/\"><img alt=\"Creative Commons Licence\" style=\"border-width:0\" src=\"https://i.creativecommons.org/l/by/4.0/88x31.png\" title='This work is licensed under a Creative Commons Attribution 4.0 International License.' align=\"right\"/></a>\n",
    "\n",
    "Authors: \n",
    "- Dr Valentina Erastova \n",
    "- Dr Matteo Degiacomi \n",
    "- Dr Tom Slater\n",
    "\n",
    "Email: slatert2@cardiff.ac.uk\n"
   ]
  },
  {
   "cell_type": "markdown",
   "metadata": {},
   "source": [
    "## Learning objectives  <a id=\"learning\"></a>\n",
    "\n",
    "* use the `numpy` library \n",
    "* perform mathematical operations on `numpy` arrays in 1D\n",
    "* access parts of arrays\n",
    "* load arrays to or from files\n",
    "* plot data using `matplotlib`\n",
    "\n",
    "Some of the material was adapted from [Python4Science](https://github.com/Degiacomi-Lab/python4science/blob/master/2_Python_numerical_data.ipynb)."
   ]
  },
  {
   "cell_type": "markdown",
   "metadata": {},
   "source": [
    "## Table of Contents\n",
    "\n",
    "1. [Arrays and NumPy](#1-arrays-and-numpy)    \n",
    "    1.1 [1D Arrays](#11-1d-arrays)    \n",
    "    1.2 [Tasks 1](#tasks-1)    \n",
    "2. [Mathematical operations on 1D arrays](#2-mathematical-operations-on-1d-arrays)    \n",
    "3. [Accessing slices of 1D arrays](#3-accessing-slices-of-1d-arrays)  \n",
    "    3.1 [Loading an array to/from a file](#loading-an-array-to-from-a-file)  \n",
    "4. [Plotting data](#plotting-data)    \n",
    "    4.1 [A simple plot](#simple-plot)     \n",
    "    4.2 [Quick aside on string formatting](#quick-aside-on-string-formatting)     \n",
    "    4.3 [Object Oriented Plotting](#oo-plotting)    \n",
    "5. [End of Session Task](#final-task)"
   ]
  },
  {
   "cell_type": "markdown",
   "metadata": {},
   "source": [
    "**<span style=\"color:black\">Jupyter Cheat Sheet</span>**\n",
    "- To run the currently highlighted cell and move focus to the next cell, hold <kbd>&#x21E7; Shift</kbd> and press <kbd>&#x23ce; Enter</kbd>;\n",
    "- To run the currently highlighted cell and keep focus in the same cell, hold <kbd>&#x21E7; Ctrl</kbd> and press <kbd>&#x23ce; Enter</kbd>;\n",
    "- To get help for a specific function, place the cursor within the function's brackets, hold <kbd>&#x21E7; Shift</kbd>, and press <kbd>&#x21E5; Tab</kbd>;"
   ]
  },
  {
   "cell_type": "markdown",
   "metadata": {},
   "source": [
    "## Links to documentation\n",
    "\n",
    "You can find useful information about using `numpy` and `matplotlib` at\n",
    "* [NumPy](https://numpy.org)\n",
    "* [matplotlib](https://matplotlib.org)\n"
   ]
  },
  {
   "cell_type": "markdown",
   "metadata": {},
   "source": [
    "If you are running this notebook in Google Colab, please copy this notebook to your Google Drive (Copy to Drive) in order to save all of your changes. You will also need to run the following code cell in order to use the data later in the notebook."
   ]
  },
  {
   "cell_type": "code",
   "execution_count": null,
   "metadata": {},
   "outputs": [],
   "source": [
    "! git clone https://github.com/TomSlater/Introduction-To-Programming-with-Python\n",
    "%cd Introduction-To-Programming-with-Python"
   ]
  },
  {
   "cell_type": "markdown",
   "metadata": {},
   "source": [
    "# 1. Arrays and NumPy <a id=\"1-arrays-and-numpy\"></a>"
   ]
  },
  {
   "cell_type": "markdown",
   "metadata": {},
   "source": [
    "* An **array** is a smart way of storing multidimensional numerical data. A one dimensional array is particularly useful for storing spectroscopy data, 2D arrays are used for storing images.\n",
    "\n",
    "* **NumPy**, which stands for *Numerical Python*, is a module consisting of multidimensional array objects and a collection of routines for processing those arrays.\n",
    "\n",
    "* A module is a collection of code that someone has packaged together for us by others. We can use a pre-built module in our code by using the `import` statement.\n",
    "\n",
    "* We can use `NumPy` to perform mathematical and logical operations on arrays.\n",
    "\n",
    "* `NumPy` is a base for many other modules."
   ]
  },
  {
   "cell_type": "markdown",
   "metadata": {},
   "source": [
    "### Import the NumPy library\n",
    "\n",
    "For `NumPy`, the standard-practice alias is `np.`:"
   ]
  },
  {
   "cell_type": "code",
   "execution_count": null,
   "metadata": {},
   "outputs": [],
   "source": [
    "import numpy as np"
   ]
  },
  {
   "cell_type": "markdown",
   "metadata": {},
   "source": [
    "## 1.1 1D Arrays <a id=\"11-1d-arrays\"></a>"
   ]
  },
  {
   "cell_type": "markdown",
   "metadata": {},
   "source": [
    "### Lists\n",
    "\n",
    "Before we start using NumPy arrays, let's first take a look at another built-in python object, the `list`. Lists are a one dimensional collection of data, which can have any types.\n",
    "\n",
    "```python\n",
    "#This list is just integers.\n",
    "my_list = [4, 2, 7, 4, 5]\n",
    "\n",
    "#This list is a mixture of data types (including another list).\n",
    "my_list = [4, 'Harry', 7.0, [2,\"Potter\"], 5]\n",
    "\n",
    "```\n",
    "\n",
    "NumPy arrays can only contain **one datatype**, i.e. all integers, all floats, etc. For this reason, we'll just be using lists of either integers or floats for the rest of the notebook."
   ]
  },
  {
   "cell_type": "markdown",
   "metadata": {},
   "source": [
    "### Creating 1D arrays \n",
    "\n",
    "To create an array of integers (single numbers like 1, 2, 3, 4, 5) we can do it by converting a list to an array as:\n",
    "\n",
    "```python\n",
    "import numpy as np\n",
    "\n",
    "my_list = [1, 2, 3, 4, 5]\n",
    "\n",
    "my_array = np.array(my_list)\n",
    "```\n"
   ]
  },
  {
   "cell_type": "markdown",
   "metadata": {},
   "source": [
    "### Example 1"
   ]
  },
  {
   "cell_type": "code",
   "execution_count": null,
   "metadata": {},
   "outputs": [],
   "source": [
    "# Create a 1D numpy array:\n",
    "a = [1, 2, 3, 4, 5] # Your list can be of any length\n",
    "my_array = np.array(a)"
   ]
  },
  {
   "cell_type": "markdown",
   "metadata": {},
   "source": [
    "### Example 2\n",
    "\n",
    "Let's look at some of the **properties** of our array. \n",
    "\n",
    "How do you get the **dimensions**, **shape**, **size**, and **data type** of an array?"
   ]
  },
  {
   "cell_type": "code",
   "execution_count": null,
   "metadata": {},
   "outputs": [],
   "source": [
    "# Check the properties of this 1D array\n",
    "print(f\"Dimensions {my_array.ndim}\")\n",
    "print(f\"Shape {my_array.shape}\")\n",
    "print(f\"Size {my_array.size}\")\n",
    "print(f\"Datatype {my_array.dtype}\")"
   ]
  },
  {
   "cell_type": "markdown",
   "metadata": {},
   "source": [
    "### Example 3\n",
    "\n",
    "We can also use **functions** to generate arrays.\n",
    "\n",
    "We can generate one-dimensional arrays of equally-spaced numbers with:\n",
    "* `np.linspace(start, end, quantity)` or\n",
    "* `np.arange(start, end, step_size)`"
   ]
  },
  {
   "cell_type": "markdown",
   "metadata": {},
   "source": [
    "We can also generate multidimensional arrays filled with zeros or ones with NumPy functions:\n",
    "* `np.zeros(shape)`\n",
    "* `np.ones(shape)`\n",
    "\n",
    "where `shape` has to be an `int` for 1D arrays and `tuple`, such as `(5, 6)`, for creating a 2D array."
   ]
  },
  {
   "cell_type": "markdown",
   "metadata": {},
   "source": [
    "**Let's use `np.zeros(shape)` to create a 1D array full of zeros:**"
   ]
  },
  {
   "cell_type": "code",
   "execution_count": null,
   "metadata": {},
   "outputs": [],
   "source": [
    "z = np.zeros(10)\n",
    "print(f\"My array of zeros {z} is of type {z.dtype}\")"
   ]
  },
  {
   "cell_type": "markdown",
   "metadata": {},
   "source": [
    "## Tasks 1 <a id=\"tasks-1\"></a>\n",
    "\n",
    "We will continue to generate 1D arrays, access parts of an array, and perform some mathematical operations on them. \n"
   ]
  },
  {
   "cell_type": "markdown",
   "metadata": {},
   "source": [
    "<div class=\"alert alert-success\">\n",
    "    <b>Task 1.1 </b> : Generate a 1D array of length 5, filled with ones.\n",
    "</div>\n",
    "\n"
   ]
  },
  {
   "cell_type": "code",
   "execution_count": null,
   "metadata": {},
   "outputs": [],
   "source": [
    "# FIXME\n",
    "\n"
   ]
  },
  {
   "cell_type": "markdown",
   "metadata": {},
   "source": [
    "<details><summary {style=\"color:green;font-weight:bold\"}> Click here to see the solution to Task 1.1 </summary>\n",
    "\n",
    "```python\n",
    "ones = np.ones(5)\n",
    "print(\"Array of five ones: \"+ones)\n",
    "```\n",
    "</details>"
   ]
  },
  {
   "cell_type": "markdown",
   "metadata": {},
   "source": [
    "<div class=\"alert alert-success\"><b> Task 1.2: Create an array with `np.arange`</b>\n",
    "\n",
    "Using `np.arange`, create a 1D array as a sequence from 0 to 20 in steps of 2.\n",
    "\n",
    "</div>"
   ]
  },
  {
   "cell_type": "code",
   "execution_count": null,
   "metadata": {},
   "outputs": [],
   "source": [
    "# FIXME\n"
   ]
  },
  {
   "cell_type": "markdown",
   "metadata": {},
   "source": [
    "<details><summary {style=\"color:green;font-weight:bold\"}> Click here to see the solution to Task 1.2</summary>\n",
    "\n",
    "```python\n",
    "sequence = np.arange(0, 21, 2) \n",
    "print(sequence)\n",
    "```\n",
    "</details>"
   ]
  },
  {
   "cell_type": "markdown",
   "metadata": {},
   "source": [
    "<div class=\"alert alert-success\"><b>Question</b>: What number did you have to stop at to include 20 as a last number? Why?\n",
    "</div>"
   ]
  },
  {
   "cell_type": "markdown",
   "metadata": {},
   "source": [
    "<details><summary {style=\"color:green;font-weight:bold\"}>Click here to see the answer to the above question.</summary>\n",
    "\n",
    "Python starts counting from 0 and in `np.arange(start, stop, step)`, the `stop` value is not inclusive.\n",
    "</details>"
   ]
  },
  {
   "cell_type": "markdown",
   "metadata": {},
   "source": [
    "<div class=\"aler alert-warning\"><b> Advanced Task 1.3</b> <a id=\"task-13\"></a>\n",
    "\n",
    "Find the last number in an array `np.arange(0, 20, 2)`.\n",
    "\n",
    "Is the answer as you expected?\n",
    "</div>"
   ]
  },
  {
   "cell_type": "code",
   "execution_count": null,
   "metadata": {},
   "outputs": [],
   "source": [
    "# FIXME\n"
   ]
  },
  {
   "cell_type": "markdown",
   "metadata": {},
   "source": [
    "<details><summary {style=\"color:green;font-weight:bold\"}>Click here to see the solution to the Advanced task 1.3.</summary>\n",
    "\n",
    "```python\n",
    "a = np.arange(0, 20, 2)\n",
    "last = a[-1]\n",
    "print(last)\n",
    "```\n",
    "</details>"
   ]
  },
  {
   "cell_type": "markdown",
   "metadata": {},
   "source": [
    "<div class=\"alert alert-success\"><b> Task 1.4: Generate another array</b>\n",
    "\n",
    "Generate the same array as we did with `np.arange(0, 20, 2)` but this time using `np.linspace(start, stop, n_steps)`.\n",
    "\n",
    "How do these two functions differ?\n",
    "\n",
    "</div>"
   ]
  },
  {
   "cell_type": "code",
   "execution_count": null,
   "metadata": {},
   "outputs": [],
   "source": [
    "# FIXME\n"
   ]
  },
  {
   "cell_type": "markdown",
   "metadata": {},
   "source": [
    "<details><summary {style=\"color:green; font-weight:bold\"}> Click here to see the solution to Task 1.4</summary>\n",
    "\n",
    "```python\n",
    "b = np.linspace(0, 20, 11)\n",
    "print(b)\n",
    "```\n",
    "\n",
    "Note that in this case, the end point is included in the generated array. This is also explained in the [documentation](https://numpy.org).\n",
    "</details>"
   ]
  },
  {
   "cell_type": "markdown",
   "metadata": {},
   "source": [
    "# 2. Mathematical operations on 1D arrays <a id=\"2-mathematical-operations-on-1d-arrays\"></a>\n",
    "\n",
    "All mathematical operations between NumPy arrays act element by element. This is not the same for lists, which is why using NumPy is so useful. \n",
    "\n",
    "Operations with scalar numbers act on every element of the array. \n",
    "\n",
    "For example:\n",
    "\n",
    "If we define: \n",
    "```python\n",
    "a = np.array([1, 2, 3])\n",
    "b = np.array([0, 1, 2])\n",
    "```\n",
    "then\n",
    "* `a * b` returns the array `[0, 2, 6]`\n",
    "* `a - b` returns the array `[1, 1, 1]`\n",
    "* `a + 1` returns the array `[2, 3, 4]`\n",
    "\n",
    "Arrays can be used to conduct mathematical operations in a compact way. If we were using *lists*, we would have to loop through each element of the list to perform similar operations.\n",
    "\n",
    "We will see some examples of this below."
   ]
  },
  {
   "cell_type": "markdown",
   "metadata": {},
   "source": [
    "<div class=\"alert alert-success\"><b> Task 2.1: Add a scalar to an array </b>\n",
    "\n",
    "Create an array called `my_array` containing the numbers 3, 6, 7, 2 and 8. Add the number 3 to every number of the array.\n",
    "\n",
    "</div>"
   ]
  },
  {
   "cell_type": "code",
   "execution_count": null,
   "metadata": {},
   "outputs": [],
   "source": [
    "# FIXME\n"
   ]
  },
  {
   "cell_type": "markdown",
   "metadata": {},
   "source": [
    "<details><summary {style=\"color:green; font-weight:bold\"}> Click here to see the solution to Task 2.1 </summary>\n",
    "\n",
    "```python\n",
    "\n",
    "my_array = np.array([3, 6, 7, 2, 8])\n",
    "\n",
    "new_array = my_array + 3\n",
    "\n",
    "print(\"my_array + 3 =\",new_array)\n",
    "```\n",
    "</details>"
   ]
  },
  {
   "cell_type": "markdown",
   "metadata": {},
   "source": [
    "We can also do mathematical operations between two arrays. \n",
    "\n",
    "**Note:** the arrays have to have the same dimensions."
   ]
  },
  {
   "cell_type": "markdown",
   "metadata": {},
   "source": [
    "<div class=\"alert alert-success\">\n",
    "    <b>Task 2.2: Mathematical operations between two arrays.</b>\n",
    "\n",
    "   Create 2 arrays of your liking and perform mathematical operations.\n",
    "   \n",
    "   For example: multiply them, substract one from another, and add them up.\n",
    "   \n",
    "   Print the answers.\n",
    "</div>\n",
    "\n",
    "\n"
   ]
  },
  {
   "cell_type": "code",
   "execution_count": null,
   "metadata": {},
   "outputs": [],
   "source": [
    "# FIXME\n",
    "a = \n",
    "b = \n",
    "\n",
    "print(\"multiplication a * b = \",)\n",
    "print(\"substraction a - b = \",)\n",
    "print(\"addition a + b = \",)\n"
   ]
  },
  {
   "cell_type": "markdown",
   "metadata": {},
   "source": [
    "<details><summary {style=\"color:green; font-weight:bold\"}> Click here to see solution to Task 2.2 </summary>\n",
    "\n",
    "```python\n",
    "a = np.array([1, 2, 4])\n",
    "b = np.array([0, 1, 2])\n",
    "\n",
    "print(\"multiplication a * b = \",a * b)\n",
    "print(\"substraction a - b = \",a - b)\n",
    "print(\"addition a + b = \",a + b)\n",
    "```\n",
    "</details>"
   ]
  },
  {
   "cell_type": "markdown",
   "metadata": {},
   "source": [
    " <div class=\"alert alert-success\">\n",
    "    <b>Task 2.3: Square each value in <code>my_array</code></b> \n",
    "</div>"
   ]
  },
  {
   "cell_type": "markdown",
   "metadata": {},
   "source": [
    "<div class=\"alert alert-info\"><b> Hint:</b> you can use <code>**</code> as an operator to raise to a power, i.e. $x^2$ would be written as <code>x**2</code> in Python.\n",
    "</div>"
   ]
  },
  {
   "cell_type": "code",
   "execution_count": null,
   "metadata": {},
   "outputs": [],
   "source": [
    "# FIXME\n"
   ]
  },
  {
   "cell_type": "markdown",
   "metadata": {},
   "source": [
    "<details><summary {style=\"color:green; font-weight:bold\"}> Click here to see the soluton to Task 2.3. </summary>\n",
    "\n",
    "```python\n",
    "\n",
    "my_array = np.array([3, 6, 7, 2, 8])\n",
    "my_array_squared = my_array ** 2\n",
    "\n",
    "print(my_array_squared)\n",
    "\n",
    "```\n",
    "</details>"
   ]
  },
  {
   "cell_type": "markdown",
   "metadata": {},
   "source": [
    "### Example 4\n",
    "\n",
    "What is the difference between using `numpy` and using `math`?\n",
    "\n",
    "How do you calculate:\n",
    "* the square-root of a single number?\n",
    "* the square-root of a list?\n",
    "* the square-root of an array?\n",
    "\n",
    "See what happens when you run the code below."
   ]
  },
  {
   "cell_type": "markdown",
   "metadata": {},
   "source": [
    "<div class=\"alert alert-info\">\n",
    "<b>Note:</b> The community-agreed alias for the math library is just <code>m</code>.\n",
    "</div>"
   ]
  },
  {
   "cell_type": "code",
   "execution_count": null,
   "metadata": {},
   "outputs": [],
   "source": [
    "import math as m\n",
    "import numpy as np\n",
    "\n",
    "# Square-root of a single number:\n",
    "# with math\n",
    "print (m.sqrt(4)) \n",
    "# with numpy\n",
    "print (np.sqrt(4))\n",
    "# mathematically, by calculating 4^{1/2} \n",
    "print (4**0.5) \n",
    "\n",
    "# Square-root of a list of numbers\n",
    "l = [4, 9, 16] \n",
    "# numpy: square root of every element \n",
    "print (np.sqrt(l)) \n",
    " # Can you use math here?\n",
    "print (m.sqrt(l)) \n",
    "\n",
    "# Square-root of an array\n",
    "a = np.array(l)\n",
    "# square root of every element of a numpy array\n",
    "print(np.sqrt(a)) \n",
    "# would this work?\n",
    "print(m.sqrt(a)) "
   ]
  },
  {
   "cell_type": "markdown",
   "metadata": {},
   "source": [
    "# 3. Accessing *slices* of 1D arrays <a id=\"3-accessing-slices-of-1d-arrays\"></a>\n",
    "\n",
    "Slicing an array is the operation of extracting a subset of it, as shown in the figure below.\n",
    "\n",
    "<img src=\"images/slicing1.png\" width=\"500\">"
   ]
  },
  {
   "cell_type": "markdown",
   "metadata": {},
   "source": [
    "We will learn about *slicing* in the following task."
   ]
  },
  {
   "cell_type": "markdown",
   "metadata": {},
   "source": [
    "<div class=\"alert alert-success\"><b> Task 3.1: Slicing arrays </b>\n",
    "\n",
    "1. Generate a 1D array of 20 elements and fill it with random numbers.\n",
    "2. Pick every 3rd value within the first 10 values.\n",
    "3. Print how many values you get\n",
    "4. What is the last number in your array? (See [Advanced task 1.3](#task-13))\n",
    "</div>\n"
   ]
  },
  {
   "cell_type": "markdown",
   "metadata": {},
   "source": [
    "<div class=\"alert alert-info\"><b> Hint</b>\n",
    "\n",
    " Try executing  `np.random.default_rng(seed)`\n",
    "\n",
    "This is a random number generator, where the `seed` is used to \"initialise\" the number generator. You can read more about this in the [Random Generator Documentation from NumPy](https://numpy.org/doc/stable/reference/random/generator.html).\n",
    "\n",
    " </div>"
   ]
  },
  {
   "cell_type": "code",
   "execution_count": null,
   "metadata": {},
   "outputs": [],
   "source": [
    "# 1. Generate a 1D array of 20 elements and fill it with random numbers.\n",
    "# FIXME\n",
    "\n",
    "# 2. Pick every 3rd value within the first 10 values.\n",
    "# FIXME\n",
    "\n",
    "# 3. Print how many values you get\n",
    "# FIXME\n",
    "\n",
    "# 4. What is the last number in your array?\n",
    "# FIXME\n"
   ]
  },
  {
   "cell_type": "markdown",
   "metadata": {},
   "source": [
    "<details><summary {style=\"color:green; font-weight:bold\"}> Click here to see the solution to Task 3.1.</summary>\n",
    "\n",
    "```python\n",
    "\n",
    "# 1. Generate a 1D array of 20 elements and fill it with random numbers.\n",
    "\n",
    "random_generator = np.random.default_rng(12345)\n",
    "random_numbers = random_generator.random(20)\n",
    "print(random_numbers)\n",
    "\n",
    "# 2. Pick every 3rd value within the first 10 values.\n",
    "picked = random_numbers[0:10:3]\n",
    "\n",
    "# 3. Print how many values you get\n",
    "print(len(random_numbers))\n",
    "print(len(picked))\n",
    "\n",
    "# 4. What is the last number in your array?    \n",
    "last = random_numbers[-1]\n",
    "print(last)\n",
    "```\n",
    "</details>"
   ]
  },
  {
   "cell_type": "markdown",
   "metadata": {},
   "source": [
    "\n",
    "## 3.1 Loading an array to/from a file <a id=\"loading-an-array-to-from-a-file\"></a>\n",
    "\n",
    "We can also load arrays from a plain text file. \n"
   ]
  },
  {
   "cell_type": "markdown",
   "metadata": {},
   "source": [
    "There are many options available for loading the file, such as:\n",
    "\n",
    "To load a file `array.txt`: \n",
    "\n",
    "```python\n",
    "\n",
    "loaded_array = np.loadtxt(\"array.txt\")\n",
    "\n",
    "```"
   ]
  },
  {
   "cell_type": "markdown",
   "metadata": {},
   "source": [
    "We can skip some lines, for example in the case where the file has a header over the first 5 lines of the file, using the option `skiprows`. \n",
    "\n",
    "Similarly, if the file contains comments, we can use the option `comments` to specify the character used for comments, so that these lines also get ignored by python. \n",
    "```python\n",
    "clean_array = np.loadtxt(\"array.txt\", comments=\"#\", skiprows=5)\n",
    "```"
   ]
  },
  {
   "cell_type": "markdown",
   "metadata": {},
   "source": [
    "To save the array called `my_array` into the file, use `np.savetxt`:\n",
    "\n",
    "```python\n",
    "np.savetxt(\"my_array.txt\", data)\n",
    "```"
   ]
  },
  {
   "cell_type": "markdown",
   "metadata": {},
   "source": [
    "<div class=\"alert alert-success\"><b>Task 3.2: Load data to and from a file with arrays</b>\n",
    "\n",
    "1. Load in the file `data/slice_me.txt` and skip the first row. (The `data/` part specifies the folder in which the file is.)\n",
    "2. Print the shape of this data\n",
    "3. Save this to another file called `data/slice_me_copy.txt`\n",
    "\n",
    "</div>"
   ]
  },
  {
   "cell_type": "code",
   "execution_count": null,
   "metadata": {},
   "outputs": [],
   "source": [
    "# 1. Load in the file data/slice_me.txt and skip the first row.\n",
    "# FIXME\n",
    "\n",
    "# 2. Print the shape of this data\n",
    "# FIXME\n",
    "\n",
    "# 3. Save this to another file called data/slice_me_copy.txt\n",
    "# FIXME\n"
   ]
  },
  {
   "cell_type": "markdown",
   "metadata": {},
   "source": [
    "<details><summary {style=\"color:green; font-weight:bold\"}> Click here to see the solution to Task 3.2</summary>\n",
    "\n",
    "```python\n",
    "\n",
    "# 1. Load in the file data/slice_me.txt and skip the first row.\n",
    "data = np.loadtxt(\"data/slice_me.txt\", skiprows=1)\n",
    "\n",
    "# 2. Print the shape of this data\n",
    "print(data.shape)\n",
    "\n",
    "# 3. Save this to another file called data/slice_me_copy.txt\n",
    "np.savetxt(\"data/slice_me_copy.txt\", data)\n",
    "\n",
    "```\n",
    "</details>"
   ]
  },
  {
   "cell_type": "markdown",
   "metadata": {},
   "source": [
    "<div class=\"alert alert-success\"><b> Task 3.3: Slicing data arrays</b> <a id=\"task-23\"></a>\n",
    "\n",
    "The folder `data` contains a file called `ethyl_cyanoacetate.txt`, which contains NMR data given in two columns: chemical shift and intensity.\n",
    "\n",
    "1. Read in the file `ethyl_cyanoacetate.txt`\n",
    "2. Create a sub-sample of the intensities data by extracting every 10th line into a variable called `subdata`.\n",
    "3. Save the `subdata` into a new file called `sub_intensities.txt` in the `data` folder.\n",
    "\n",
    "<b>Note:</b> it might be a good idea to print the shapes of `data` and `subdata` to check if your slicing is correct after step 2.\n",
    "</div>"
   ]
  },
  {
   "cell_type": "code",
   "execution_count": null,
   "metadata": {},
   "outputs": [],
   "source": [
    "# 1. Read in the file ms.txt\n",
    "# FIXME\n",
    "\n",
    "# 2. Create a sub-sample of the data by extracting every 10th line into a variable called `subdata`.\n",
    "# FIXME\n",
    "\n",
    "# 3. Save the intensities column from `subdata` into a new file.\n",
    "# FIXME\n"
   ]
  },
  {
   "cell_type": "markdown",
   "metadata": {},
   "source": [
    "<details><summary {style=\"color:green; font-weight:bold\"}> Click here to see the solution to Task 3.3. </summary>\n",
    "\n",
    "```python\n",
    "# 1. Read in the file ms.txt\n",
    "data = np.loadtxt(\"data/ethyl_cyanoacetate.txt\")\n",
    "\n",
    "# 2. Create a sub-sample of the data by extracting every 10th line into a variable called `subdata`.\n",
    "subdata = data[::10, 1]\n",
    "\n",
    "# Check the shapes of the datasets\n",
    "print(data.shape)\n",
    "print(subdata.shape)\n",
    "\n",
    "# 3. Save the intensities column from `subdata` into a new file.\n",
    "np.savetxt(\"data/sub_intensities.txt\", subdata)\n",
    "\n",
    "```\n",
    "</details>"
   ]
  },
  {
   "cell_type": "markdown",
   "metadata": {},
   "source": [
    "<div class=\"alert alert-warning\"><b> Advanced Task 3.4</b>\n",
    "\n",
    "Can you do the above without numpy, only using in-built python functionality?"
   ]
  },
  {
   "cell_type": "code",
   "execution_count": null,
   "metadata": {},
   "outputs": [],
   "source": [
    "# FIXME\n"
   ]
  },
  {
   "cell_type": "markdown",
   "metadata": {},
   "source": [
    "<details><summary {style=\"color:green; font-weight:bold\"}> Click here to see the solution to the Advanced task 3.4 </summary>\n",
    "\n",
    "```python\n",
    "\n",
    "# Read file in line by line\n",
    "with open(\"data/ethyl_cyanoacetate.txt\", \"r\") as input_file:\n",
    "    lines = input_file.readlines()\n",
    "\n",
    "# Counter for counting every 10th line\n",
    "counter = 0\n",
    "\n",
    "# Create an empty list to store intensity values\n",
    "intensities = []\n",
    "\n",
    "# Loop over the lines in the file\n",
    "for line in lines:\n",
    "\n",
    "    # If counter is divisible by 10\n",
    "    if counter % 10 == 0:\n",
    "        # split the line (string) into two columns:\n",
    "        columns = line.split()\n",
    "\n",
    "        # the second column is intensity\n",
    "        intensity = columns[1]\n",
    "\n",
    "        # append intensity value to intensities list\n",
    "        intensities.append(intensity)\n",
    "\n",
    "    # increment the counter\n",
    "    counter += 1\n",
    "\n",
    "# Open file for writing:\n",
    "with open(\"data/sub_densities.txt\", \"w\") as output_file:\n",
    "    # Loop over all the values in the list intensities\n",
    "    for intensity in intensities:\n",
    "        # Write each intensity to the file on separate lines\n",
    "        output_file.write(f\"{intensity} \\n\")\n",
    "\n",
    "```\n",
    "</details>"
   ]
  },
  {
   "cell_type": "markdown",
   "metadata": {},
   "source": [
    "# Key Points <a id=\"recap\"></a>\n",
    "\n",
    "<div class=\"alert alert-info\">\n",
    "\n",
    "- Numpy is a Python package to efficiently read/write and manipulate numerical data\n",
    "- it can handle data of arbitrary size and shape\n",
    "- algebraic operations across arrays take place element by element, i.e. arrays are <b>not</b> matrices.\n",
    "- numpy enables applying mathematical operations along desider axes.\n",
    "</div>"
   ]
  },
  {
   "cell_type": "markdown",
   "metadata": {},
   "source": [
    "# 4. Plotting data <a id=\"plotting-data\"></a>\n",
    "\n",
    "We can use the [matplotlib](http://matplotlib.org) package to plot data using Python. \n",
    "\n",
    "We first look at the `pyplot` functional interface, which allows us to manipulate a given current figure. `pyplot` is great to quickly visualize data we are working with, but it is **not suitable** for plots of multiple data quantities, subplots, or more complex customizations.  In this case, an *object-oriented* plotting approach is needed. We will discuss the object-oriented plotting in Section 1.3."
   ]
  },
  {
   "cell_type": "markdown",
   "metadata": {},
   "source": [
    "## 4.1 A simple plot <a id=\"simple-plot\"></a>"
   ]
  },
  {
   "cell_type": "markdown",
   "metadata": {},
   "source": [
    "### Example 5\n",
    "\n",
    "As always, we begin with **importing the `matplotlib.pyplot` module** with the alias `plt`. \n",
    "\n",
    "This is the community-agreed alias for `matplotlib.pyplot`."
   ]
  },
  {
   "cell_type": "code",
   "execution_count": null,
   "metadata": {},
   "outputs": [],
   "source": [
    "import matplotlib.pyplot as plt"
   ]
  },
  {
   "cell_type": "markdown",
   "metadata": {},
   "source": [
    "### Example 6\n",
    "\n",
    "To create a plot, we use the `matplotlib` function `plt.plot()`. \n",
    "\n",
    "Load in the file `data/sub_intensities.txt` that you created in Task 3.3.\n",
    "\n",
    "It is good practice to use `plt.show()` to show the plot, even though the plot will pop up in Jupyter without this as well."
   ]
  },
  {
   "cell_type": "code",
   "execution_count": null,
   "metadata": {},
   "outputs": [],
   "source": [
    "# Read the file\n",
    "data = np.loadtxt(\"data/sub_intensities.txt\")\n",
    "\n",
    "# Plot \n",
    "plt.plot(data)\n",
    "plt.show()"
   ]
  },
  {
   "cell_type": "markdown",
   "metadata": {},
   "source": [
    "**Note:** the plot displayed is generated from the sub-sampled data, which only has intensities. Therefore, this data does not have the chemical shift column, so x-axis is just the row number."
   ]
  },
  {
   "cell_type": "markdown",
   "metadata": {},
   "source": [
    "\n",
    "### Labeling the plot and the data <a class=\"anchor\" id=\"labelplt\"></a>\n",
    "\n",
    "It is always good practice to **label the plots**. <a class=\"anchor\" id=\"labelplt\"></a>\n",
    "\n",
    "Use the following commands to add the labels to your plot:\n",
    " - `xlabel()`\n",
    " - `ylabel()` \n",
    " - `title()`"
   ]
  },
  {
   "cell_type": "markdown",
   "metadata": {},
   "source": [
    "<div class=\"alert alert-success\">\n",
    "    <b>Task 4.1</b> : Plot the <code>ethyl_cyanoacetate.txt</code> data as chemical shift vs Intensity, label the plot.\n",
    "        \n",
    "</div>"
   ]
  },
  {
   "cell_type": "code",
   "execution_count": null,
   "metadata": {},
   "outputs": [],
   "source": [
    "# FIXME\n"
   ]
  },
  {
   "cell_type": "markdown",
   "metadata": {},
   "source": [
    "<details><summary {style=\"color:green; font-weight:bold\"}> Click here to see the solution to Task 4.1.</summary>\n",
    "\n",
    "```python\n",
    "# Load in the data\n",
    "data = np.loadtxt(\"data/ethyl_cyanoacetate.txt\")\n",
    "\n",
    "# Assign the columns to 'chemical_shift' and 'intensity'\n",
    "chemical_shift = data[:,0]\n",
    "intensity = data[:,1]\n",
    "\n",
    "# plot mz against intensity\n",
    "plt.plot(chemical_shift, intensity)\n",
    "\n",
    "# label the plot\n",
    "plt.title(\"NMR spectrum of ethyl_cyanoacetate\")\n",
    "plt.xlabel(\"Chemical Shift (ppm)\")\n",
    "plt.ylabel(\"Intensity\")\n",
    "\n",
    "# save the plot\n",
    "plt.savefig(\"data/myfigure.png\")\n",
    "\n",
    "# show the plot\n",
    "plt.show()\n",
    "```\n",
    "</details>"
   ]
  },
  {
   "cell_type": "markdown",
   "metadata": {},
   "source": [
    "## 4.2 Quick aside on string formatting <a id=\"quick-aside-on-string-formatting\"></a>\n",
    "\n",
    "We can use **f-strings** to format strings in a nice way. This is useful for, e.g., labelling scientific plots.\n",
    "\n",
    "For example, let's say we want to creare a plot label for pressure as \"Pressure ($\\mathrm{N / m}^2$)\" in Python:\n",
    "\n",
    "```python\n",
    "    plt.plot(x, y)\n",
    "    plt.xlabel(f\"pressure (N / m$^2$)\")\n",
    "```\n",
    "\n",
    "We can do this using LaTex notation given inside the `$ $` signs. \n",
    "\n",
    "[Click here](https://oeis.org/wiki/List_of_LaTeX_mathematical_symbols) for a list of some of the mathematical symbols you can write in this format. \n",
    "\n",
    "Some of the most useful ones for chemists are **superscripts** `$^{-2}$` and **subscripts** `$_{\\mathrm{exp}}$`. The expression `\\mathrm{}` stands for \"maths roman\" which ensures the superscript is written in non-italic. \n",
    "\n",
    "You can use this \"math mode\" in markdown cells in a similar way to write equations. \n",
    "\n",
    "Another useful method of f-strings is formatting the number of significant figures of values. For example, let's say we want to print the mass of something with 2 significant figures:\n",
    "\n",
    "```python\n",
    "    mass = 0.198 # in g\n",
    "    print(f\"The final mass is {mass:.2f} g.\")\n",
    "```\n",
    "\n",
    "which prints: `The final mass is 0.20 g.`"
   ]
  },
  {
   "cell_type": "markdown",
   "metadata": {},
   "source": [
    "## 4.3 Object Oriented Plotting <a id=\"oo-plotting\"></a>"
   ]
  },
  {
   "cell_type": "markdown",
   "metadata": {},
   "source": [
    "In [Section 4.1](#simple-plot), we have done only very basic plots  with the `pyplot` module of the matplotlib package. In this section, we will introduce more complex plotting, by adopting a more sophisticad **Object Oriented Plotting** approach. If you are eager to know more, please see discussion on [PyPlot vs. Object Oriented Interfaces](https://matplotlib.org/matplotblog/posts/pyplot-vs-object-oriented-interface/) on the matplotlib blog."
   ]
  },
  {
   "cell_type": "markdown",
   "metadata": {},
   "source": [
    "Object oriented plotting enables us to get control on all the components of a plot, shown in the figure below.\n",
    "\n",
    "<img src=\"images/anatomy-of-a-figure.webp\" width=\"600\"></img>\n",
    "\n",
    "To achieve this, we start with declaring an *object* which is a container for all elements that are rendered onto the object, i.e. our **figure**."
   ]
  },
  {
   "cell_type": "markdown",
   "metadata": {},
   "source": [
    "### Declare a figure *object*:\n",
    "\n",
    "The following command produces a single figure (called `fig`) containing a single axes (i.e. a single plot called `ax` inside figure)\n",
    "\n",
    "```python\n",
    "fig, ax = plt.subplots()\n",
    "```\n",
    "With matplotlib, a figure can be created in different ways: \n",
    "    \n",
    "```python\n",
    "# an empty figure with no Axes\n",
    "fig = plt.figure()  \n",
    "# a figure with a single Axes\n",
    "fig, ax = plt.subplots()  \n",
    "# a figure with a 2x2 grid of Axes\n",
    "fig, axs = plt.subplots(2, 2)  \n",
    "```"
   ]
  },
  {
   "cell_type": "markdown",
   "metadata": {},
   "source": [
    "### Add the data onto the axes of the plot with:  \n",
    "\n",
    "```python\n",
    "ax.plot(time, distance)\n",
    "```\n",
    "\n",
    "We can also include labels, markers, colors:\n",
    "    \n",
    "```python\n",
    "# Plot some data on the axes\n",
    "ax.plot(x, x, label=\"linear\")  \n",
    "# Plot more data on the axes...\n",
    "ax.plot(x, x**2, label=\"quadratic\", \"x\")  \n",
    "# ... and some more:\n",
    "ax.plot(x, x**3, label=\"cubic\", color=\"orange\")\n",
    "````"
   ]
  },
  {
   "cell_type": "markdown",
   "metadata": {},
   "source": [
    "### Add other elements, such as labels:\n",
    "\n",
    "```python\n",
    "# Add a y-label to the axes.\n",
    "ax.set_ylabel(\"Distance (m)\")\n",
    "# Add an x-label to the axes. \n",
    "ax.set_xlabel(\"Time (s)\")\n",
    "# Add a title to the axes.  \n",
    "ax.set_title(\"My plot\")  \n",
    "# Add a legend.\n",
    "ax.legend()  \n",
    "```"
   ]
  },
  {
   "cell_type": "markdown",
   "metadata": {},
   "source": [
    "### Adjust figure size and resolution:  \n",
    "\n",
    "```python\n",
    "fig.set_size_inches(6,4)\n",
    "fig.set_dpi(200)\n",
    "```"
   ]
  },
  {
   "cell_type": "markdown",
   "metadata": {},
   "source": [
    "### To finish the figure, render it together:\n",
    "\n",
    "```python\n",
    "plt.show()\n",
    "```"
   ]
  },
  {
   "cell_type": "markdown",
   "metadata": {},
   "source": [
    "# 5. End of Session Task <a id=\"final-task\"></a>"
   ]
  },
  {
   "cell_type": "markdown",
   "metadata": {},
   "source": [
    "<div class=\"alert alert-warning\">\n",
    "    <b>End of Class Task</b> : Plot the NMR spectra contained in <code>ethyl_cyanoacetate.txt</code> and <code>ethyl_phenylcyanoacetate.txt</code> (in the data directory) using object oriented plotting. Here, you should create four subplots in a 2X2 grid. On the two left subplots you should plot the original data for the entire NMR spectrum. On the two right subplots, you should plot a cropped region around 4.45 and 4.15 ppm (the indices for these values are approximately 45100 and 42300). You should appropriately label your plot and subplots (e.g. titles and axes labels).\n",
    "<br/>\n",
    "<br/>\n",
    "When plotting NMR spectra it is common to invert the x-axis. You should do this here using the <code>invert_xaxis()</code> function, which is associated with one axis object (i.e. axs[0] in the example above).\n",
    "        \n",
    "</div>"
   ]
  },
  {
   "cell_type": "code",
   "execution_count": null,
   "metadata": {},
   "outputs": [],
   "source": []
  }
 ],
 "metadata": {
  "kernelspec": {
   "display_name": "Python 3 (ipykernel)",
   "language": "python",
   "name": "python3"
  },
  "language_info": {
   "codemirror_mode": {
    "name": "ipython",
    "version": 3
   },
   "file_extension": ".py",
   "mimetype": "text/x-python",
   "name": "python",
   "nbconvert_exporter": "python",
   "pygments_lexer": "ipython3",
   "version": "3.12.7"
  },
  "vscode": {
   "interpreter": {
    "hash": "cf51243a6e93b78f1f5c5d179cd4f66e9bfd7b6269bebfcfdbed7f35483e292c"
   }
  }
 },
 "nbformat": 4,
 "nbformat_minor": 4
}
